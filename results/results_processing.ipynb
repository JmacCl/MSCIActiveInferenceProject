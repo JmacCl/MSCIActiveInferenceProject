{
 "cells": [
  {
   "metadata": {},
   "cell_type": "code",
   "outputs": [],
   "execution_count": null,
   "source": "",
   "id": "3f61d35fa8f5dda6"
  },
  {
   "cell_type": "code",
   "id": "initial_id",
   "metadata": {
    "collapsed": true,
    "ExecuteTime": {
     "end_time": "2025-04-01T14:26:45.222165Z",
     "start_time": "2025-04-01T14:26:44.983775Z"
    }
   },
   "source": [
    "import os \n",
    "import pickle\n",
    "\n",
    "print(os.listdir(os.path.join(os.getcwd(),\"deterministic_long_policy\", \"deterministic_long_policy_g=8_a=8_t=25\")))\n",
    "\n",
    "p = os.path.join(os.getcwd(),\"deterministic_long_policy\",\n",
    "                            \"deterministic_long_policy_g=8_a=8_t=25\",\"deterministic_long_policy_g=8_a=8_t=25.pkl\")\n",
    "\n",
    "pt = r\"C:\\\\Users\\\\james\\\\MSCIActiveInferenceProject\\\\results\\\\deterministic_long_policy\\\\deterministic_long_policy_g=8_a=8_t=25\\\\deterministic_long_policy_g=8_a=8_t=25.pkl\"\n",
    "with open(p, \"rb\") as file:\n",
    "    pkl_file = pickle.load(file)"
   ],
   "outputs": [
    {
     "name": "stdout",
     "output_type": "stream",
     "text": [
      "['deterministic_long_policy_g=8_a=8_t=25.pkl', 'deterministic_long_policy_g=8_a=8_t=25.yml']\n"
     ]
    }
   ],
   "execution_count": 15
  },
  {
   "metadata": {
    "ExecuteTime": {
     "end_time": "2025-04-14T13:27:52.884837Z",
     "start_time": "2025-04-14T13:27:52.841071Z"
    }
   },
   "cell_type": "code",
   "source": [
    "import os\n",
    "import yaml\n",
    "import pathlib\n",
    "\n",
    "def tuple_constructor(loader, node):\n",
    "    return tuple(loader.construct_sequence(node))\n",
    "\n",
    "yaml.add_constructor('tag:yaml.org,2002:python/tuple', tuple_constructor)\n",
    "\n",
    "def yml_loader(path, exp_name, show):\n",
    "    with open(path, \"r\") as file:\n",
    "        yaml_file = yaml.load(file, Loader=yaml.FullLoader)\n",
    "    indep = yaml_file[\"parameters\"]\n",
    "    \n",
    "    # indep_output = f\"a={indep['alpha']}_g={indep['gamma']}_t={indep['time_steps']}\"\n",
    "    # dep_output = f\"peak_memory={float(yaml_file['peak_memory_per_episode']):.2f}\\ntime_per_episode={float(yaml_file['time_per_episode']):.2f}\\npolicy_length_per_episode={float(yaml_file['policy_length_per_episode']):.2f}\\nstate_space_coverage={float(yaml_file['state_space_coverage']):.2f}\\nepisodes={yaml_file['episode_count']}\"\n",
    "    \n",
    "    ### independent results\n",
    "    alpha = indep['alpha']\n",
    "    gamma = indep['gamma']\n",
    "    time_steps = indep['time_steps']\n",
    "    \n",
    "    ### Dependent Results\n",
    "    \n",
    "    peak_memory = f\"{float(yaml_file['peak_memory_per_episode']/1024):.2f}\" # megabytes\n",
    "    time_per_episode = f\"{float(yaml_file['time_per_episode']):.2f}\"\n",
    "    pol_len_per_episode = f\"{float(yaml_file['policy_length_per_episode']):.2f}\"\n",
    "    state_space_coverage = f\"{float(yaml_file['state_space_coverage']):.2f}\"\n",
    "    episode_count = f\"{yaml_file['episode_count']}\"\n",
    "    upper_bound_memory = f\"{(float(episode_count) * float(peak_memory)):.2f}\"\n",
    "    total_elapsed_time = f\"{(float(episode_count) * (float(time_per_episode)/60)):.2f}\" \n",
    "    \n",
    "    indep_latex_row = f\"{alpha} {gamma} {time_steps}\"\n",
    "    dep_latex_row = f\"{peak_memory} & {time_per_episode} & {pol_len_per_episode} & {state_space_coverage} & {episode_count} & {upper_bound_memory} & {total_elapsed_time}\"\n",
    "    \n",
    "    latex_row = f\"{indep_latex_row} & & {dep_latex_row} \\\\\\\\\"\n",
    "    alpha_gamma_show = [(8, 8), (16, 16), (32, 32)]\n",
    "    time_show = [150, 175]\n",
    "    \n",
    "    if show:\n",
    "        if (alpha, gamma) in alpha_gamma_show and time_steps in time_show:\n",
    "            print(exp_name)\n",
    "            print(latex_row)\n",
    "    else:\n",
    "        print(latex_row)\n",
    "    "
   ],
   "id": "b11938e8fd2fc528",
   "outputs": [],
   "execution_count": 34
  },
  {
   "metadata": {
    "ExecuteTime": {
     "end_time": "2025-04-14T13:27:53.344948Z",
     "start_time": "2025-04-14T13:27:53.325224Z"
    }
   },
   "cell_type": "code",
   "source": [
    "# derive yaml data from results\n",
    "import os\n",
    "import yaml\n",
    "import pathlib\n",
    "import re\n",
    "\n",
    "aif_results = os.path.join(os.getcwd(),\"AiF_real\")\n",
    "\n",
    "def extract_sort_key(filename):\n",
    "    match = re.search(r'g=(\\d+)_a=(\\d+)_t=(\\d+)', filename)  # Extract numbers\n",
    "    if match:\n",
    "        g, a, t = map(int, match.groups())  # Convert to integers\n",
    "        return (g, a, t)  # Sort by g, then a, then t\n",
    "    return (0, 0, 0)  # Default if no match found\n",
    "\n",
    "def extract_experiments_clean(folder, exp, show):\n",
    "    \"\"\"\n",
    "    Given an experiment name, including the folder where it is, extract the results and present them\n",
    "    :return: \n",
    "    \"\"\"\n",
    "    exp_folder = os.path.join(os.getcwd(), folder, exp)\n",
    "    \n",
    "    for exp_class in sorted(os.listdir(exp_folder)):\n",
    "        exp_class_path = os.path.join(exp_folder,exp_class)\n",
    "        for dec_model in sorted(os.listdir(exp_class_path), key=extract_sort_key ):\n",
    "            dec_model_path = os.path.join(exp_class_path,dec_model, dec_model + \".yml\")\n",
    "            yml_loader(dec_model_path,  exp_class_path + \" \" + dec_model, show)\n",
    "    \n",
    "\n",
    "# for exp_dir in os.listdir(aif_results):\n",
    "#     exp_dir_path = os.path.join(aif_results,exp_dir)\n",
    "#     for exp_class in os.listdir(exp_dir_path):\n",
    "#         exp_class_path = os.path.join(exp_dir_path,exp_class)\n",
    "#         for dec_model in os.listdir(exp_class_path):\n",
    "#             dec_model_path = os.path.join(exp_class_path,dec_model, dec_model + \".yml\")\n",
    "#             yml_loader(dec_model_path,  exp_dir + \" \" + dec_model)\n",
    "                \n",
    "        \n",
    "\n"
   ],
   "id": "26a55b3be181227b",
   "outputs": [],
   "execution_count": 35
  },
  {
   "metadata": {
    "ExecuteTime": {
     "end_time": "2025-04-14T13:27:53.998785Z",
     "start_time": "2025-04-14T13:27:53.985004Z"
    }
   },
   "cell_type": "code",
   "source": "folder = os.path.join(\"AiF_real\", \"performance\")",
   "id": "7e23832df7c6bcfc",
   "outputs": [],
   "execution_count": 36
  },
  {
   "metadata": {
    "ExecuteTime": {
     "end_time": "2025-04-14T13:27:55.883527Z",
     "start_time": "2025-04-14T13:27:54.186100Z"
    }
   },
   "cell_type": "code",
   "source": [
    "\"\"\"\n",
    "5x5 experiment performance results\n",
    "\"\"\"\n",
    "exp_5x5 = \"5_by_5_grid_experiment\"\n",
    "\n",
    "extract_experiments_clean(folder, exp_5x5, True)"
   ],
   "id": "e82424ef6c5b4835",
   "outputs": [
    {
     "name": "stdout",
     "output_type": "stream",
     "text": [
      "C:\\Users\\james\\MSCIActiveInferenceProject\\results\\AiF_real\\performance\\5_by_5_grid_experiment\\deterministic_long_policy deterministic_long_policy_g=8_a=8_t=150\n",
      "8 8 150 & & 4.19 & 17.78 & 8.22 & 0.27 & 18 & 75.42 & 5.33 \\\\\n",
      "C:\\Users\\james\\MSCIActiveInferenceProject\\results\\AiF_real\\performance\\5_by_5_grid_experiment\\deterministic_long_policy deterministic_long_policy_g=16_a=16_t=150\n",
      "16 16 150 & & 4.36 & 21.26 & 10.00 & 0.33 & 14 & 61.04 & 4.96 \\\\\n",
      "C:\\Users\\james\\MSCIActiveInferenceProject\\results\\AiF_real\\performance\\5_by_5_grid_experiment\\deterministic_long_policy deterministic_long_policy_g=32_a=32_t=150\n",
      "32 32 150 & & 4.30 & 20.86 & 9.73 & 0.31 & 15 & 64.50 & 5.21 \\\\\n",
      "C:\\Users\\james\\MSCIActiveInferenceProject\\results\\AiF_real\\performance\\5_by_5_grid_experiment\\stochastic_long_policy stochastic_long_policy_g=8_a=8_t=150\n",
      "8 8 150 & & 4.31 & 26.96 & 12.50 & 0.36 & 12 & 51.72 & 5.39 \\\\\n",
      "C:\\Users\\james\\MSCIActiveInferenceProject\\results\\AiF_real\\performance\\5_by_5_grid_experiment\\stochastic_long_policy stochastic_long_policy_g=16_a=16_t=150\n",
      "16 16 150 & & 4.23 & 19.90 & 8.82 & 0.31 & 17 & 71.91 & 5.64 \\\\\n",
      "C:\\Users\\james\\MSCIActiveInferenceProject\\results\\AiF_real\\performance\\5_by_5_grid_experiment\\stochastic_long_policy stochastic_long_policy_g=32_a=32_t=150\n",
      "32 32 150 & & 4.27 & 17.38 & 7.53 & 0.27 & 19 & 81.13 & 5.50 \\\\\n",
      "C:\\Users\\james\\MSCIActiveInferenceProject\\results\\AiF_real\\performance\\5_by_5_grid_experiment\\stochastic_short_policy stochastic_short_policy_g=8_a=8_t=150\n",
      "8 8 150 & & 3.14 & 0.43 & 8.28 & 0.28 & 18 & 56.52 & 0.13 \\\\\n",
      "C:\\Users\\james\\MSCIActiveInferenceProject\\results\\AiF_real\\performance\\5_by_5_grid_experiment\\stochastic_short_policy stochastic_short_policy_g=16_a=16_t=150\n",
      "16 16 150 & & 3.51 & 0.51 & 10.36 & 0.31 & 14 & 49.14 & 0.12 \\\\\n",
      "C:\\Users\\james\\MSCIActiveInferenceProject\\results\\AiF_real\\performance\\5_by_5_grid_experiment\\stochastic_short_policy stochastic_short_policy_g=32_a=32_t=150\n",
      "32 32 150 & & 3.40 & 0.53 & 10.00 & 0.32 & 15 & 51.00 & 0.13 \\\\\n"
     ]
    }
   ],
   "execution_count": 37
  },
  {
   "metadata": {
    "ExecuteTime": {
     "end_time": "2025-04-14T13:22:32.547503Z",
     "start_time": "2025-04-14T13:22:32.534955Z"
    }
   },
   "cell_type": "code",
   "source": [
    "\"\"\"\n",
    "7x7 experiment performance results\n",
    "\"\"\"\n",
    "exp_7x7 = \"7_by_7_grid_experiment\"\n",
    "\n"
   ],
   "id": "659bb2e694376a94",
   "outputs": [],
   "execution_count": 29
  },
  {
   "metadata": {
    "ExecuteTime": {
     "end_time": "2025-04-14T09:36:54.203211Z",
     "start_time": "2025-04-14T09:36:47.980013Z"
    }
   },
   "cell_type": "code",
   "source": [
    "\"\"\"\n",
    "9x9 experiment performance results\n",
    "\"\"\"\n",
    "exp_9x9 = \"9_by_9_grid_experiment\"\n",
    "\n",
    "extract_experiments_clean(folder, exp_9x9)"
   ],
   "id": "b9334082783661fb",
   "outputs": [
    {
     "name": "stdout",
     "output_type": "stream",
     "text": [
      "C:\\Users\\james\\MSCIActiveInferenceProject\\results\\AiF_real\\performance\\9_by_9_grid_experiment\\stochastic_long_long_policy stochastic_long_long_policy_g=16_a=16_t=125\n",
      "a=16_g=16_t=125\n",
      "peak_memory=26596.54\n",
      "time_per_episode=2580.00\n",
      "timesteps_episode=36.00\n",
      "policy_length_per_episode=36.00\n",
      "state_space_coverage=0.33\n",
      "episodes=2\n",
      "\n",
      "\n",
      "C:\\Users\\james\\MSCIActiveInferenceProject\\results\\AiF_real\\performance\\9_by_9_grid_experiment\\stochastic_long_long_policy stochastic_long_long_policy_g=16_a=16_t=175\n",
      "a=16_g=16_t=175\n",
      "peak_memory=53637.34\n",
      "time_per_episode=2607.58\n",
      "timesteps_episode=57.00\n",
      "policy_length_per_episode=57.00\n",
      "state_space_coverage=0.46\n",
      "episodes=2\n",
      "\n",
      "\n",
      "C:\\Users\\james\\MSCIActiveInferenceProject\\results\\AiF_real\\performance\\9_by_9_grid_experiment\\stochastic_long_long_policy stochastic_long_long_policy_g=16_a=16_t=250\n",
      "a=16_g=16_t=250\n",
      "peak_memory=82748.10\n",
      "time_per_episode=5020.87\n",
      "timesteps_episode=108.00\n",
      "policy_length_per_episode=108.00\n",
      "state_space_coverage=0.54\n",
      "episodes=2\n",
      "\n",
      "\n",
      "C:\\Users\\james\\MSCIActiveInferenceProject\\results\\AiF_real\\performance\\9_by_9_grid_experiment\\stochastic_long_long_policy stochastic_long_long_policy_g=16_a=16_t=75\n",
      "a=16_g=16_t=75\n",
      "peak_memory=24847.78\n",
      "time_per_episode=2782.78\n",
      "timesteps_episode=33.50\n",
      "policy_length_per_episode=33.50\n",
      "state_space_coverage=0.32\n",
      "episodes=2\n",
      "\n",
      "\n",
      "C:\\Users\\james\\MSCIActiveInferenceProject\\results\\AiF_real\\performance\\9_by_9_grid_experiment\\stochastic_long_long_policy stochastic_long_long_policy_g=16_a=32_t=125\n",
      "a=32_g=16_t=125\n",
      "peak_memory=37821.11\n",
      "time_per_episode=3288.53\n",
      "timesteps_episode=16.00\n",
      "policy_length_per_episode=16.00\n",
      "state_space_coverage=0.14\n",
      "episodes=1\n",
      "\n",
      "\n",
      "C:\\Users\\james\\MSCIActiveInferenceProject\\results\\AiF_real\\performance\\9_by_9_grid_experiment\\stochastic_long_long_policy stochastic_long_long_policy_g=16_a=32_t=175\n",
      "a=32_g=16_t=175\n",
      "peak_memory=46796.81\n",
      "time_per_episode=1521.88\n",
      "timesteps_episode=33.40\n",
      "policy_length_per_episode=33.40\n",
      "state_space_coverage=0.26\n",
      "episodes=5\n",
      "\n",
      "\n",
      "C:\\Users\\james\\MSCIActiveInferenceProject\\results\\AiF_real\\performance\\9_by_9_grid_experiment\\stochastic_long_long_policy stochastic_long_long_policy_g=16_a=32_t=250\n",
      "a=32_g=16_t=250\n",
      "peak_memory=35935.05\n",
      "time_per_episode=1426.52\n",
      "timesteps_episode=22.00\n",
      "policy_length_per_episode=22.00\n",
      "state_space_coverage=0.16\n",
      "episodes=5\n",
      "\n",
      "\n",
      "C:\\Users\\james\\MSCIActiveInferenceProject\\results\\AiF_real\\performance\\9_by_9_grid_experiment\\stochastic_long_long_policy stochastic_long_long_policy_g=16_a=32_t=75\n",
      "a=32_g=16_t=75\n",
      "peak_memory=31880.18\n",
      "time_per_episode=2265.02\n",
      "timesteps_episode=33.00\n",
      "policy_length_per_episode=33.00\n",
      "state_space_coverage=0.30\n",
      "episodes=1\n",
      "\n",
      "\n",
      "C:\\Users\\james\\MSCIActiveInferenceProject\\results\\AiF_real\\performance\\9_by_9_grid_experiment\\stochastic_long_long_policy stochastic_long_long_policy_g=16_a=8_t=125\n",
      "a=8_g=16_t=125\n",
      "peak_memory=38085.70\n",
      "time_per_episode=2381.14\n",
      "timesteps_episode=43.00\n",
      "policy_length_per_episode=43.00\n",
      "state_space_coverage=0.20\n",
      "episodes=2\n",
      "\n",
      "\n",
      "C:\\Users\\james\\MSCIActiveInferenceProject\\results\\AiF_real\\performance\\9_by_9_grid_experiment\\stochastic_long_long_policy stochastic_long_long_policy_g=16_a=8_t=175\n",
      "a=8_g=16_t=175\n",
      "peak_memory=37241.19\n",
      "time_per_episode=2174.69\n",
      "timesteps_episode=27.00\n",
      "policy_length_per_episode=27.00\n",
      "state_space_coverage=0.21\n",
      "episodes=3\n",
      "\n",
      "\n",
      "C:\\Users\\james\\MSCIActiveInferenceProject\\results\\AiF_real\\performance\\9_by_9_grid_experiment\\stochastic_long_long_policy stochastic_long_long_policy_g=16_a=8_t=250\n",
      "a=8_g=16_t=250\n",
      "peak_memory=46817.15\n",
      "time_per_episode=1574.77\n",
      "timesteps_episode=34.57\n",
      "policy_length_per_episode=34.57\n",
      "state_space_coverage=0.30\n",
      "episodes=7\n",
      "\n",
      "\n",
      "C:\\Users\\james\\MSCIActiveInferenceProject\\results\\AiF_real\\performance\\9_by_9_grid_experiment\\stochastic_long_long_policy stochastic_long_long_policy_g=16_a=8_t=75\n",
      "a=8_g=16_t=75\n",
      "peak_memory=23255.91\n",
      "time_per_episode=960.21\n",
      "timesteps_episode=23.33\n",
      "policy_length_per_episode=23.33\n",
      "state_space_coverage=0.23\n",
      "episodes=3\n",
      "\n",
      "\n",
      "C:\\Users\\james\\MSCIActiveInferenceProject\\results\\AiF_real\\performance\\9_by_9_grid_experiment\\stochastic_long_long_policy stochastic_long_long_policy_g=32_a=16_t=125\n",
      "a=16_g=32_t=125\n",
      "peak_memory=40455.34\n",
      "time_per_episode=1669.25\n",
      "timesteps_episode=40.50\n",
      "policy_length_per_episode=40.50\n",
      "state_space_coverage=0.36\n",
      "episodes=2\n",
      "\n",
      "\n",
      "C:\\Users\\james\\MSCIActiveInferenceProject\\results\\AiF_real\\performance\\9_by_9_grid_experiment\\stochastic_long_long_policy stochastic_long_long_policy_g=32_a=16_t=175\n",
      "a=16_g=32_t=175\n",
      "peak_memory=43178.51\n",
      "time_per_episode=2298.90\n",
      "timesteps_episode=34.00\n",
      "policy_length_per_episode=34.00\n",
      "state_space_coverage=0.32\n",
      "episodes=3\n",
      "\n",
      "\n"
     ]
    },
    {
     "ename": "KeyboardInterrupt",
     "evalue": "",
     "output_type": "error",
     "traceback": [
      "\u001B[1;31m---------------------------------------------------------------------------\u001B[0m",
      "\u001B[1;31mKeyboardInterrupt\u001B[0m                         Traceback (most recent call last)",
      "Cell \u001B[1;32mIn[24], line 6\u001B[0m\n\u001B[0;32m      1\u001B[0m \u001B[38;5;124;03m\"\"\"\u001B[39;00m\n\u001B[0;32m      2\u001B[0m \u001B[38;5;124;03m9x9 experiment performance results\u001B[39;00m\n\u001B[0;32m      3\u001B[0m \u001B[38;5;124;03m\"\"\"\u001B[39;00m\n\u001B[0;32m      4\u001B[0m exp_9x9 \u001B[38;5;241m=\u001B[39m \u001B[38;5;124m\"\u001B[39m\u001B[38;5;124m9_by_9_grid_experiment\u001B[39m\u001B[38;5;124m\"\u001B[39m\n\u001B[1;32m----> 6\u001B[0m \u001B[43mextract_experiments_clean\u001B[49m\u001B[43m(\u001B[49m\u001B[43mfolder\u001B[49m\u001B[43m,\u001B[49m\u001B[43m \u001B[49m\u001B[43mexp_9x9\u001B[49m\u001B[43m)\u001B[49m\n",
      "Cell \u001B[1;32mIn[18], line 19\u001B[0m, in \u001B[0;36mextract_experiments_clean\u001B[1;34m(folder, exp)\u001B[0m\n\u001B[0;32m     17\u001B[0m \u001B[38;5;28;01mfor\u001B[39;00m dec_model \u001B[38;5;129;01min\u001B[39;00m os\u001B[38;5;241m.\u001B[39mlistdir(exp_class_path):\n\u001B[0;32m     18\u001B[0m     dec_model_path \u001B[38;5;241m=\u001B[39m os\u001B[38;5;241m.\u001B[39mpath\u001B[38;5;241m.\u001B[39mjoin(exp_class_path,dec_model, dec_model \u001B[38;5;241m+\u001B[39m \u001B[38;5;124m\"\u001B[39m\u001B[38;5;124m.yml\u001B[39m\u001B[38;5;124m\"\u001B[39m)\n\u001B[1;32m---> 19\u001B[0m     \u001B[43myml_loader\u001B[49m\u001B[43m(\u001B[49m\u001B[43mdec_model_path\u001B[49m\u001B[43m,\u001B[49m\u001B[43m  \u001B[49m\u001B[43mexp_class_path\u001B[49m\u001B[43m \u001B[49m\u001B[38;5;241;43m+\u001B[39;49m\u001B[43m \u001B[49m\u001B[38;5;124;43m\"\u001B[39;49m\u001B[38;5;124;43m \u001B[39;49m\u001B[38;5;124;43m\"\u001B[39;49m\u001B[43m \u001B[49m\u001B[38;5;241;43m+\u001B[39;49m\u001B[43m \u001B[49m\u001B[43mdec_model\u001B[49m\u001B[43m)\u001B[49m\n",
      "Cell \u001B[1;32mIn[10], line 12\u001B[0m, in \u001B[0;36myml_loader\u001B[1;34m(path, exp_name)\u001B[0m\n\u001B[0;32m     10\u001B[0m \u001B[38;5;28;01mdef\u001B[39;00m \u001B[38;5;21myml_loader\u001B[39m(path, exp_name):\n\u001B[0;32m     11\u001B[0m     \u001B[38;5;28;01mwith\u001B[39;00m \u001B[38;5;28mopen\u001B[39m(path, \u001B[38;5;124m\"\u001B[39m\u001B[38;5;124mr\u001B[39m\u001B[38;5;124m\"\u001B[39m) \u001B[38;5;28;01mas\u001B[39;00m file:\n\u001B[1;32m---> 12\u001B[0m         yaml_file \u001B[38;5;241m=\u001B[39m \u001B[43myaml\u001B[49m\u001B[38;5;241;43m.\u001B[39;49m\u001B[43mload\u001B[49m\u001B[43m(\u001B[49m\u001B[43mfile\u001B[49m\u001B[43m,\u001B[49m\u001B[43m \u001B[49m\u001B[43mLoader\u001B[49m\u001B[38;5;241;43m=\u001B[39;49m\u001B[43myaml\u001B[49m\u001B[38;5;241;43m.\u001B[39;49m\u001B[43mFullLoader\u001B[49m\u001B[43m)\u001B[49m\n\u001B[0;32m     13\u001B[0m     indep \u001B[38;5;241m=\u001B[39m yaml_file[\u001B[38;5;124m\"\u001B[39m\u001B[38;5;124mparameters\u001B[39m\u001B[38;5;124m\"\u001B[39m]\n\u001B[0;32m     15\u001B[0m     indep_output \u001B[38;5;241m=\u001B[39m \u001B[38;5;124mf\u001B[39m\u001B[38;5;124m\"\u001B[39m\u001B[38;5;124ma=\u001B[39m\u001B[38;5;132;01m{\u001B[39;00mindep[\u001B[38;5;124m'\u001B[39m\u001B[38;5;124malpha\u001B[39m\u001B[38;5;124m'\u001B[39m]\u001B[38;5;132;01m}\u001B[39;00m\u001B[38;5;124m_g=\u001B[39m\u001B[38;5;132;01m{\u001B[39;00mindep[\u001B[38;5;124m'\u001B[39m\u001B[38;5;124mgamma\u001B[39m\u001B[38;5;124m'\u001B[39m]\u001B[38;5;132;01m}\u001B[39;00m\u001B[38;5;124m_t=\u001B[39m\u001B[38;5;132;01m{\u001B[39;00mindep[\u001B[38;5;124m'\u001B[39m\u001B[38;5;124mtime_steps\u001B[39m\u001B[38;5;124m'\u001B[39m]\u001B[38;5;132;01m}\u001B[39;00m\u001B[38;5;124m\"\u001B[39m\n",
      "File \u001B[1;32m~\\AppData\\Local\\Programs\\Python\\Python39\\lib\\site-packages\\yaml\\__init__.py:81\u001B[0m, in \u001B[0;36mload\u001B[1;34m(stream, Loader)\u001B[0m\n\u001B[0;32m     79\u001B[0m loader \u001B[38;5;241m=\u001B[39m Loader(stream)\n\u001B[0;32m     80\u001B[0m \u001B[38;5;28;01mtry\u001B[39;00m:\n\u001B[1;32m---> 81\u001B[0m     \u001B[38;5;28;01mreturn\u001B[39;00m \u001B[43mloader\u001B[49m\u001B[38;5;241;43m.\u001B[39;49m\u001B[43mget_single_data\u001B[49m\u001B[43m(\u001B[49m\u001B[43m)\u001B[49m\n\u001B[0;32m     82\u001B[0m \u001B[38;5;28;01mfinally\u001B[39;00m:\n\u001B[0;32m     83\u001B[0m     loader\u001B[38;5;241m.\u001B[39mdispose()\n",
      "File \u001B[1;32m~\\AppData\\Local\\Programs\\Python\\Python39\\lib\\site-packages\\yaml\\constructor.py:49\u001B[0m, in \u001B[0;36mBaseConstructor.get_single_data\u001B[1;34m(self)\u001B[0m\n\u001B[0;32m     47\u001B[0m \u001B[38;5;28;01mdef\u001B[39;00m \u001B[38;5;21mget_single_data\u001B[39m(\u001B[38;5;28mself\u001B[39m):\n\u001B[0;32m     48\u001B[0m     \u001B[38;5;66;03m# Ensure that the stream contains a single document and construct it.\u001B[39;00m\n\u001B[1;32m---> 49\u001B[0m     node \u001B[38;5;241m=\u001B[39m \u001B[38;5;28;43mself\u001B[39;49m\u001B[38;5;241;43m.\u001B[39;49m\u001B[43mget_single_node\u001B[49m\u001B[43m(\u001B[49m\u001B[43m)\u001B[49m\n\u001B[0;32m     50\u001B[0m     \u001B[38;5;28;01mif\u001B[39;00m node \u001B[38;5;129;01mis\u001B[39;00m \u001B[38;5;129;01mnot\u001B[39;00m \u001B[38;5;28;01mNone\u001B[39;00m:\n\u001B[0;32m     51\u001B[0m         \u001B[38;5;28;01mreturn\u001B[39;00m \u001B[38;5;28mself\u001B[39m\u001B[38;5;241m.\u001B[39mconstruct_document(node)\n",
      "File \u001B[1;32m~\\AppData\\Local\\Programs\\Python\\Python39\\lib\\site-packages\\yaml\\composer.py:36\u001B[0m, in \u001B[0;36mComposer.get_single_node\u001B[1;34m(self)\u001B[0m\n\u001B[0;32m     34\u001B[0m document \u001B[38;5;241m=\u001B[39m \u001B[38;5;28;01mNone\u001B[39;00m\n\u001B[0;32m     35\u001B[0m \u001B[38;5;28;01mif\u001B[39;00m \u001B[38;5;129;01mnot\u001B[39;00m \u001B[38;5;28mself\u001B[39m\u001B[38;5;241m.\u001B[39mcheck_event(StreamEndEvent):\n\u001B[1;32m---> 36\u001B[0m     document \u001B[38;5;241m=\u001B[39m \u001B[38;5;28;43mself\u001B[39;49m\u001B[38;5;241;43m.\u001B[39;49m\u001B[43mcompose_document\u001B[49m\u001B[43m(\u001B[49m\u001B[43m)\u001B[49m\n\u001B[0;32m     38\u001B[0m \u001B[38;5;66;03m# Ensure that the stream contains no more documents.\u001B[39;00m\n\u001B[0;32m     39\u001B[0m \u001B[38;5;28;01mif\u001B[39;00m \u001B[38;5;129;01mnot\u001B[39;00m \u001B[38;5;28mself\u001B[39m\u001B[38;5;241m.\u001B[39mcheck_event(StreamEndEvent):\n",
      "File \u001B[1;32m~\\AppData\\Local\\Programs\\Python\\Python39\\lib\\site-packages\\yaml\\composer.py:55\u001B[0m, in \u001B[0;36mComposer.compose_document\u001B[1;34m(self)\u001B[0m\n\u001B[0;32m     52\u001B[0m \u001B[38;5;28mself\u001B[39m\u001B[38;5;241m.\u001B[39mget_event()\n\u001B[0;32m     54\u001B[0m \u001B[38;5;66;03m# Compose the root node.\u001B[39;00m\n\u001B[1;32m---> 55\u001B[0m node \u001B[38;5;241m=\u001B[39m \u001B[38;5;28;43mself\u001B[39;49m\u001B[38;5;241;43m.\u001B[39;49m\u001B[43mcompose_node\u001B[49m\u001B[43m(\u001B[49m\u001B[38;5;28;43;01mNone\u001B[39;49;00m\u001B[43m,\u001B[49m\u001B[43m \u001B[49m\u001B[38;5;28;43;01mNone\u001B[39;49;00m\u001B[43m)\u001B[49m\n\u001B[0;32m     57\u001B[0m \u001B[38;5;66;03m# Drop the DOCUMENT-END event.\u001B[39;00m\n\u001B[0;32m     58\u001B[0m \u001B[38;5;28mself\u001B[39m\u001B[38;5;241m.\u001B[39mget_event()\n",
      "File \u001B[1;32m~\\AppData\\Local\\Programs\\Python\\Python39\\lib\\site-packages\\yaml\\composer.py:84\u001B[0m, in \u001B[0;36mComposer.compose_node\u001B[1;34m(self, parent, index)\u001B[0m\n\u001B[0;32m     82\u001B[0m     node \u001B[38;5;241m=\u001B[39m \u001B[38;5;28mself\u001B[39m\u001B[38;5;241m.\u001B[39mcompose_sequence_node(anchor)\n\u001B[0;32m     83\u001B[0m \u001B[38;5;28;01melif\u001B[39;00m \u001B[38;5;28mself\u001B[39m\u001B[38;5;241m.\u001B[39mcheck_event(MappingStartEvent):\n\u001B[1;32m---> 84\u001B[0m     node \u001B[38;5;241m=\u001B[39m \u001B[38;5;28;43mself\u001B[39;49m\u001B[38;5;241;43m.\u001B[39;49m\u001B[43mcompose_mapping_node\u001B[49m\u001B[43m(\u001B[49m\u001B[43manchor\u001B[49m\u001B[43m)\u001B[49m\n\u001B[0;32m     85\u001B[0m \u001B[38;5;28mself\u001B[39m\u001B[38;5;241m.\u001B[39mascend_resolver()\n\u001B[0;32m     86\u001B[0m \u001B[38;5;28;01mreturn\u001B[39;00m node\n",
      "File \u001B[1;32m~\\AppData\\Local\\Programs\\Python\\Python39\\lib\\site-packages\\yaml\\composer.py:133\u001B[0m, in \u001B[0;36mComposer.compose_mapping_node\u001B[1;34m(self, anchor)\u001B[0m\n\u001B[0;32m    129\u001B[0m item_key \u001B[38;5;241m=\u001B[39m \u001B[38;5;28mself\u001B[39m\u001B[38;5;241m.\u001B[39mcompose_node(node, \u001B[38;5;28;01mNone\u001B[39;00m)\n\u001B[0;32m    130\u001B[0m \u001B[38;5;66;03m#if item_key in node.value:\u001B[39;00m\n\u001B[0;32m    131\u001B[0m \u001B[38;5;66;03m#    raise ComposerError(\"while composing a mapping\", start_event.start_mark,\u001B[39;00m\n\u001B[0;32m    132\u001B[0m \u001B[38;5;66;03m#            \"found duplicate key\", key_event.start_mark)\u001B[39;00m\n\u001B[1;32m--> 133\u001B[0m item_value \u001B[38;5;241m=\u001B[39m \u001B[38;5;28;43mself\u001B[39;49m\u001B[38;5;241;43m.\u001B[39;49m\u001B[43mcompose_node\u001B[49m\u001B[43m(\u001B[49m\u001B[43mnode\u001B[49m\u001B[43m,\u001B[49m\u001B[43m \u001B[49m\u001B[43mitem_key\u001B[49m\u001B[43m)\u001B[49m\n\u001B[0;32m    134\u001B[0m \u001B[38;5;66;03m#node.value[item_key] = item_value\u001B[39;00m\n\u001B[0;32m    135\u001B[0m node\u001B[38;5;241m.\u001B[39mvalue\u001B[38;5;241m.\u001B[39mappend((item_key, item_value))\n",
      "File \u001B[1;32m~\\AppData\\Local\\Programs\\Python\\Python39\\lib\\site-packages\\yaml\\composer.py:84\u001B[0m, in \u001B[0;36mComposer.compose_node\u001B[1;34m(self, parent, index)\u001B[0m\n\u001B[0;32m     82\u001B[0m     node \u001B[38;5;241m=\u001B[39m \u001B[38;5;28mself\u001B[39m\u001B[38;5;241m.\u001B[39mcompose_sequence_node(anchor)\n\u001B[0;32m     83\u001B[0m \u001B[38;5;28;01melif\u001B[39;00m \u001B[38;5;28mself\u001B[39m\u001B[38;5;241m.\u001B[39mcheck_event(MappingStartEvent):\n\u001B[1;32m---> 84\u001B[0m     node \u001B[38;5;241m=\u001B[39m \u001B[38;5;28;43mself\u001B[39;49m\u001B[38;5;241;43m.\u001B[39;49m\u001B[43mcompose_mapping_node\u001B[49m\u001B[43m(\u001B[49m\u001B[43manchor\u001B[49m\u001B[43m)\u001B[49m\n\u001B[0;32m     85\u001B[0m \u001B[38;5;28mself\u001B[39m\u001B[38;5;241m.\u001B[39mascend_resolver()\n\u001B[0;32m     86\u001B[0m \u001B[38;5;28;01mreturn\u001B[39;00m node\n",
      "File \u001B[1;32m~\\AppData\\Local\\Programs\\Python\\Python39\\lib\\site-packages\\yaml\\composer.py:133\u001B[0m, in \u001B[0;36mComposer.compose_mapping_node\u001B[1;34m(self, anchor)\u001B[0m\n\u001B[0;32m    129\u001B[0m item_key \u001B[38;5;241m=\u001B[39m \u001B[38;5;28mself\u001B[39m\u001B[38;5;241m.\u001B[39mcompose_node(node, \u001B[38;5;28;01mNone\u001B[39;00m)\n\u001B[0;32m    130\u001B[0m \u001B[38;5;66;03m#if item_key in node.value:\u001B[39;00m\n\u001B[0;32m    131\u001B[0m \u001B[38;5;66;03m#    raise ComposerError(\"while composing a mapping\", start_event.start_mark,\u001B[39;00m\n\u001B[0;32m    132\u001B[0m \u001B[38;5;66;03m#            \"found duplicate key\", key_event.start_mark)\u001B[39;00m\n\u001B[1;32m--> 133\u001B[0m item_value \u001B[38;5;241m=\u001B[39m \u001B[38;5;28;43mself\u001B[39;49m\u001B[38;5;241;43m.\u001B[39;49m\u001B[43mcompose_node\u001B[49m\u001B[43m(\u001B[49m\u001B[43mnode\u001B[49m\u001B[43m,\u001B[49m\u001B[43m \u001B[49m\u001B[43mitem_key\u001B[49m\u001B[43m)\u001B[49m\n\u001B[0;32m    134\u001B[0m \u001B[38;5;66;03m#node.value[item_key] = item_value\u001B[39;00m\n\u001B[0;32m    135\u001B[0m node\u001B[38;5;241m.\u001B[39mvalue\u001B[38;5;241m.\u001B[39mappend((item_key, item_value))\n",
      "File \u001B[1;32m~\\AppData\\Local\\Programs\\Python\\Python39\\lib\\site-packages\\yaml\\composer.py:84\u001B[0m, in \u001B[0;36mComposer.compose_node\u001B[1;34m(self, parent, index)\u001B[0m\n\u001B[0;32m     82\u001B[0m     node \u001B[38;5;241m=\u001B[39m \u001B[38;5;28mself\u001B[39m\u001B[38;5;241m.\u001B[39mcompose_sequence_node(anchor)\n\u001B[0;32m     83\u001B[0m \u001B[38;5;28;01melif\u001B[39;00m \u001B[38;5;28mself\u001B[39m\u001B[38;5;241m.\u001B[39mcheck_event(MappingStartEvent):\n\u001B[1;32m---> 84\u001B[0m     node \u001B[38;5;241m=\u001B[39m \u001B[38;5;28;43mself\u001B[39;49m\u001B[38;5;241;43m.\u001B[39;49m\u001B[43mcompose_mapping_node\u001B[49m\u001B[43m(\u001B[49m\u001B[43manchor\u001B[49m\u001B[43m)\u001B[49m\n\u001B[0;32m     85\u001B[0m \u001B[38;5;28mself\u001B[39m\u001B[38;5;241m.\u001B[39mascend_resolver()\n\u001B[0;32m     86\u001B[0m \u001B[38;5;28;01mreturn\u001B[39;00m node\n",
      "File \u001B[1;32m~\\AppData\\Local\\Programs\\Python\\Python39\\lib\\site-packages\\yaml\\composer.py:127\u001B[0m, in \u001B[0;36mComposer.compose_mapping_node\u001B[1;34m(self, anchor)\u001B[0m\n\u001B[0;32m    125\u001B[0m \u001B[38;5;28;01mif\u001B[39;00m anchor \u001B[38;5;129;01mis\u001B[39;00m \u001B[38;5;129;01mnot\u001B[39;00m \u001B[38;5;28;01mNone\u001B[39;00m:\n\u001B[0;32m    126\u001B[0m     \u001B[38;5;28mself\u001B[39m\u001B[38;5;241m.\u001B[39manchors[anchor] \u001B[38;5;241m=\u001B[39m node\n\u001B[1;32m--> 127\u001B[0m \u001B[38;5;28;01mwhile\u001B[39;00m \u001B[38;5;129;01mnot\u001B[39;00m \u001B[38;5;28;43mself\u001B[39;49m\u001B[38;5;241;43m.\u001B[39;49m\u001B[43mcheck_event\u001B[49m\u001B[43m(\u001B[49m\u001B[43mMappingEndEvent\u001B[49m\u001B[43m)\u001B[49m:\n\u001B[0;32m    128\u001B[0m     \u001B[38;5;66;03m#key_event = self.peek_event()\u001B[39;00m\n\u001B[0;32m    129\u001B[0m     item_key \u001B[38;5;241m=\u001B[39m \u001B[38;5;28mself\u001B[39m\u001B[38;5;241m.\u001B[39mcompose_node(node, \u001B[38;5;28;01mNone\u001B[39;00m)\n\u001B[0;32m    130\u001B[0m     \u001B[38;5;66;03m#if item_key in node.value:\u001B[39;00m\n\u001B[0;32m    131\u001B[0m     \u001B[38;5;66;03m#    raise ComposerError(\"while composing a mapping\", start_event.start_mark,\u001B[39;00m\n\u001B[0;32m    132\u001B[0m     \u001B[38;5;66;03m#            \"found duplicate key\", key_event.start_mark)\u001B[39;00m\n",
      "File \u001B[1;32m~\\AppData\\Local\\Programs\\Python\\Python39\\lib\\site-packages\\yaml\\parser.py:98\u001B[0m, in \u001B[0;36mParser.check_event\u001B[1;34m(self, *choices)\u001B[0m\n\u001B[0;32m     96\u001B[0m \u001B[38;5;28;01mif\u001B[39;00m \u001B[38;5;28mself\u001B[39m\u001B[38;5;241m.\u001B[39mcurrent_event \u001B[38;5;129;01mis\u001B[39;00m \u001B[38;5;28;01mNone\u001B[39;00m:\n\u001B[0;32m     97\u001B[0m     \u001B[38;5;28;01mif\u001B[39;00m \u001B[38;5;28mself\u001B[39m\u001B[38;5;241m.\u001B[39mstate:\n\u001B[1;32m---> 98\u001B[0m         \u001B[38;5;28mself\u001B[39m\u001B[38;5;241m.\u001B[39mcurrent_event \u001B[38;5;241m=\u001B[39m \u001B[38;5;28;43mself\u001B[39;49m\u001B[38;5;241;43m.\u001B[39;49m\u001B[43mstate\u001B[49m\u001B[43m(\u001B[49m\u001B[43m)\u001B[49m\n\u001B[0;32m     99\u001B[0m \u001B[38;5;28;01mif\u001B[39;00m \u001B[38;5;28mself\u001B[39m\u001B[38;5;241m.\u001B[39mcurrent_event \u001B[38;5;129;01mis\u001B[39;00m \u001B[38;5;129;01mnot\u001B[39;00m \u001B[38;5;28;01mNone\u001B[39;00m:\n\u001B[0;32m    100\u001B[0m     \u001B[38;5;28;01mif\u001B[39;00m \u001B[38;5;129;01mnot\u001B[39;00m choices:\n",
      "File \u001B[1;32m~\\AppData\\Local\\Programs\\Python\\Python39\\lib\\site-packages\\yaml\\parser.py:540\u001B[0m, in \u001B[0;36mParser.parse_flow_mapping_first_key\u001B[1;34m(self)\u001B[0m\n\u001B[0;32m    538\u001B[0m token \u001B[38;5;241m=\u001B[39m \u001B[38;5;28mself\u001B[39m\u001B[38;5;241m.\u001B[39mget_token()\n\u001B[0;32m    539\u001B[0m \u001B[38;5;28mself\u001B[39m\u001B[38;5;241m.\u001B[39mmarks\u001B[38;5;241m.\u001B[39mappend(token\u001B[38;5;241m.\u001B[39mstart_mark)\n\u001B[1;32m--> 540\u001B[0m \u001B[38;5;28;01mreturn\u001B[39;00m \u001B[38;5;28;43mself\u001B[39;49m\u001B[38;5;241;43m.\u001B[39;49m\u001B[43mparse_flow_mapping_key\u001B[49m\u001B[43m(\u001B[49m\u001B[43mfirst\u001B[49m\u001B[38;5;241;43m=\u001B[39;49m\u001B[38;5;28;43;01mTrue\u001B[39;49;00m\u001B[43m)\u001B[49m\n",
      "File \u001B[1;32m~\\AppData\\Local\\Programs\\Python\\Python39\\lib\\site-packages\\yaml\\parser.py:543\u001B[0m, in \u001B[0;36mParser.parse_flow_mapping_key\u001B[1;34m(self, first)\u001B[0m\n\u001B[0;32m    542\u001B[0m \u001B[38;5;28;01mdef\u001B[39;00m \u001B[38;5;21mparse_flow_mapping_key\u001B[39m(\u001B[38;5;28mself\u001B[39m, first\u001B[38;5;241m=\u001B[39m\u001B[38;5;28;01mFalse\u001B[39;00m):\n\u001B[1;32m--> 543\u001B[0m     \u001B[38;5;28;01mif\u001B[39;00m \u001B[38;5;129;01mnot\u001B[39;00m \u001B[38;5;28;43mself\u001B[39;49m\u001B[38;5;241;43m.\u001B[39;49m\u001B[43mcheck_token\u001B[49m\u001B[43m(\u001B[49m\u001B[43mFlowMappingEndToken\u001B[49m\u001B[43m)\u001B[49m:\n\u001B[0;32m    544\u001B[0m         \u001B[38;5;28;01mif\u001B[39;00m \u001B[38;5;129;01mnot\u001B[39;00m first:\n\u001B[0;32m    545\u001B[0m             \u001B[38;5;28;01mif\u001B[39;00m \u001B[38;5;28mself\u001B[39m\u001B[38;5;241m.\u001B[39mcheck_token(FlowEntryToken):\n",
      "File \u001B[1;32m~\\AppData\\Local\\Programs\\Python\\Python39\\lib\\site-packages\\yaml\\scanner.py:115\u001B[0m, in \u001B[0;36mScanner.check_token\u001B[1;34m(self, *choices)\u001B[0m\n\u001B[0;32m    113\u001B[0m \u001B[38;5;28;01mdef\u001B[39;00m \u001B[38;5;21mcheck_token\u001B[39m(\u001B[38;5;28mself\u001B[39m, \u001B[38;5;241m*\u001B[39mchoices):\n\u001B[0;32m    114\u001B[0m     \u001B[38;5;66;03m# Check if the next token is one of the given types.\u001B[39;00m\n\u001B[1;32m--> 115\u001B[0m     \u001B[38;5;28;01mwhile\u001B[39;00m \u001B[38;5;28;43mself\u001B[39;49m\u001B[38;5;241;43m.\u001B[39;49m\u001B[43mneed_more_tokens\u001B[49m\u001B[43m(\u001B[49m\u001B[43m)\u001B[49m:\n\u001B[0;32m    116\u001B[0m         \u001B[38;5;28mself\u001B[39m\u001B[38;5;241m.\u001B[39mfetch_more_tokens()\n\u001B[0;32m    117\u001B[0m     \u001B[38;5;28;01mif\u001B[39;00m \u001B[38;5;28mself\u001B[39m\u001B[38;5;241m.\u001B[39mtokens:\n",
      "File \u001B[1;32m~\\AppData\\Local\\Programs\\Python\\Python39\\lib\\site-packages\\yaml\\scanner.py:152\u001B[0m, in \u001B[0;36mScanner.need_more_tokens\u001B[1;34m(self)\u001B[0m\n\u001B[0;32m    149\u001B[0m     \u001B[38;5;28;01mreturn\u001B[39;00m \u001B[38;5;28;01mTrue\u001B[39;00m\n\u001B[0;32m    150\u001B[0m \u001B[38;5;66;03m# The current token may be a potential simple key, so we\u001B[39;00m\n\u001B[0;32m    151\u001B[0m \u001B[38;5;66;03m# need to look further.\u001B[39;00m\n\u001B[1;32m--> 152\u001B[0m \u001B[38;5;28;43mself\u001B[39;49m\u001B[38;5;241;43m.\u001B[39;49m\u001B[43mstale_possible_simple_keys\u001B[49m\u001B[43m(\u001B[49m\u001B[43m)\u001B[49m\n\u001B[0;32m    153\u001B[0m \u001B[38;5;28;01mif\u001B[39;00m \u001B[38;5;28mself\u001B[39m\u001B[38;5;241m.\u001B[39mnext_possible_simple_key() \u001B[38;5;241m==\u001B[39m \u001B[38;5;28mself\u001B[39m\u001B[38;5;241m.\u001B[39mtokens_taken:\n\u001B[0;32m    154\u001B[0m     \u001B[38;5;28;01mreturn\u001B[39;00m \u001B[38;5;28;01mTrue\u001B[39;00m\n",
      "File \u001B[1;32m~\\AppData\\Local\\Programs\\Python\\Python39\\lib\\site-packages\\yaml\\scanner.py:286\u001B[0m, in \u001B[0;36mScanner.stale_possible_simple_keys\u001B[1;34m(self)\u001B[0m\n\u001B[0;32m    279\u001B[0m \u001B[38;5;28;01mdef\u001B[39;00m \u001B[38;5;21mstale_possible_simple_keys\u001B[39m(\u001B[38;5;28mself\u001B[39m):\n\u001B[0;32m    280\u001B[0m     \u001B[38;5;66;03m# Remove entries that are no longer possible simple keys. According to\u001B[39;00m\n\u001B[0;32m    281\u001B[0m     \u001B[38;5;66;03m# the YAML specification, simple keys\u001B[39;00m\n\u001B[1;32m   (...)\u001B[0m\n\u001B[0;32m    284\u001B[0m     \u001B[38;5;66;03m# Disabling this procedure will allow simple keys of any length and\u001B[39;00m\n\u001B[0;32m    285\u001B[0m     \u001B[38;5;66;03m# height (may cause problems if indentation is broken though).\u001B[39;00m\n\u001B[1;32m--> 286\u001B[0m     \u001B[38;5;28;01mfor\u001B[39;00m level \u001B[38;5;129;01min\u001B[39;00m \u001B[38;5;28;43mlist\u001B[39;49m(\u001B[38;5;28mself\u001B[39m\u001B[38;5;241m.\u001B[39mpossible_simple_keys):\n\u001B[0;32m    287\u001B[0m         key \u001B[38;5;241m=\u001B[39m \u001B[38;5;28mself\u001B[39m\u001B[38;5;241m.\u001B[39mpossible_simple_keys[level]\n\u001B[0;32m    288\u001B[0m         \u001B[38;5;28;01mif\u001B[39;00m key\u001B[38;5;241m.\u001B[39mline \u001B[38;5;241m!=\u001B[39m \u001B[38;5;28mself\u001B[39m\u001B[38;5;241m.\u001B[39mline  \\\n\u001B[0;32m    289\u001B[0m                 \u001B[38;5;129;01mor\u001B[39;00m \u001B[38;5;28mself\u001B[39m\u001B[38;5;241m.\u001B[39mindex\u001B[38;5;241m-\u001B[39mkey\u001B[38;5;241m.\u001B[39mindex \u001B[38;5;241m>\u001B[39m \u001B[38;5;241m1024\u001B[39m:\n",
      "\u001B[1;31mKeyboardInterrupt\u001B[0m: "
     ]
    }
   ],
   "execution_count": 24
  },
  {
   "metadata": {
    "ExecuteTime": {
     "end_time": "2025-04-14T09:37:13.056495Z",
     "start_time": "2025-04-14T09:37:03.968052Z"
    }
   },
   "cell_type": "code",
   "source": [
    "\"\"\"\n",
    "spiral maze experiment performance results\n",
    "\"\"\"\n",
    "\n",
    "maze_path_9x9 =  \"maze_9_by_9\"\n",
    "extract_experiments_clean(folder, maze_path_9x9)\n"
   ],
   "id": "6c117206a379221d",
   "outputs": [
    {
     "ename": "TypeError",
     "evalue": "float() argument must be a string or a number, not 'list'",
     "output_type": "error",
     "traceback": [
      "\u001B[1;31m---------------------------------------------------------------------------\u001B[0m",
      "\u001B[1;31mTypeError\u001B[0m                                 Traceback (most recent call last)",
      "Cell \u001B[1;32mIn[26], line 6\u001B[0m\n\u001B[0;32m      1\u001B[0m \u001B[38;5;124;03m\"\"\"\u001B[39;00m\n\u001B[0;32m      2\u001B[0m \u001B[38;5;124;03mspiral maze experiment performance results\u001B[39;00m\n\u001B[0;32m      3\u001B[0m \u001B[38;5;124;03m\"\"\"\u001B[39;00m\n\u001B[0;32m      5\u001B[0m maze_path_9x9 \u001B[38;5;241m=\u001B[39m  \u001B[38;5;124m\"\u001B[39m\u001B[38;5;124mmaze_9_by_9\u001B[39m\u001B[38;5;124m\"\u001B[39m\n\u001B[1;32m----> 6\u001B[0m \u001B[43mextract_experiments_clean\u001B[49m\u001B[43m(\u001B[49m\u001B[43mfolder\u001B[49m\u001B[43m,\u001B[49m\u001B[43m \u001B[49m\u001B[43mmaze_path_9x9\u001B[49m\u001B[43m)\u001B[49m\n",
      "Cell \u001B[1;32mIn[18], line 19\u001B[0m, in \u001B[0;36mextract_experiments_clean\u001B[1;34m(folder, exp)\u001B[0m\n\u001B[0;32m     17\u001B[0m \u001B[38;5;28;01mfor\u001B[39;00m dec_model \u001B[38;5;129;01min\u001B[39;00m os\u001B[38;5;241m.\u001B[39mlistdir(exp_class_path):\n\u001B[0;32m     18\u001B[0m     dec_model_path \u001B[38;5;241m=\u001B[39m os\u001B[38;5;241m.\u001B[39mpath\u001B[38;5;241m.\u001B[39mjoin(exp_class_path,dec_model, dec_model \u001B[38;5;241m+\u001B[39m \u001B[38;5;124m\"\u001B[39m\u001B[38;5;124m.yml\u001B[39m\u001B[38;5;124m\"\u001B[39m)\n\u001B[1;32m---> 19\u001B[0m     \u001B[43myml_loader\u001B[49m\u001B[43m(\u001B[49m\u001B[43mdec_model_path\u001B[49m\u001B[43m,\u001B[49m\u001B[43m  \u001B[49m\u001B[43mexp_class_path\u001B[49m\u001B[43m \u001B[49m\u001B[38;5;241;43m+\u001B[39;49m\u001B[43m \u001B[49m\u001B[38;5;124;43m\"\u001B[39;49m\u001B[38;5;124;43m \u001B[39;49m\u001B[38;5;124;43m\"\u001B[39;49m\u001B[43m \u001B[49m\u001B[38;5;241;43m+\u001B[39;49m\u001B[43m \u001B[49m\u001B[43mdec_model\u001B[49m\u001B[43m)\u001B[49m\n",
      "Cell \u001B[1;32mIn[10], line 16\u001B[0m, in \u001B[0;36myml_loader\u001B[1;34m(path, exp_name)\u001B[0m\n\u001B[0;32m     13\u001B[0m indep \u001B[38;5;241m=\u001B[39m yaml_file[\u001B[38;5;124m\"\u001B[39m\u001B[38;5;124mparameters\u001B[39m\u001B[38;5;124m\"\u001B[39m]\n\u001B[0;32m     15\u001B[0m indep_output \u001B[38;5;241m=\u001B[39m \u001B[38;5;124mf\u001B[39m\u001B[38;5;124m\"\u001B[39m\u001B[38;5;124ma=\u001B[39m\u001B[38;5;132;01m{\u001B[39;00mindep[\u001B[38;5;124m'\u001B[39m\u001B[38;5;124malpha\u001B[39m\u001B[38;5;124m'\u001B[39m]\u001B[38;5;132;01m}\u001B[39;00m\u001B[38;5;124m_g=\u001B[39m\u001B[38;5;132;01m{\u001B[39;00mindep[\u001B[38;5;124m'\u001B[39m\u001B[38;5;124mgamma\u001B[39m\u001B[38;5;124m'\u001B[39m]\u001B[38;5;132;01m}\u001B[39;00m\u001B[38;5;124m_t=\u001B[39m\u001B[38;5;132;01m{\u001B[39;00mindep[\u001B[38;5;124m'\u001B[39m\u001B[38;5;124mtime_steps\u001B[39m\u001B[38;5;124m'\u001B[39m]\u001B[38;5;132;01m}\u001B[39;00m\u001B[38;5;124m\"\u001B[39m\n\u001B[1;32m---> 16\u001B[0m dep_output \u001B[38;5;241m=\u001B[39m \u001B[38;5;124mf\u001B[39m\u001B[38;5;124m\"\u001B[39m\u001B[38;5;124mpeak_memory=\u001B[39m\u001B[38;5;132;01m{\u001B[39;00m\u001B[38;5;28mfloat\u001B[39m(yaml_file[\u001B[38;5;124m'\u001B[39m\u001B[38;5;124mpeak_memory_per_episode\u001B[39m\u001B[38;5;124m'\u001B[39m])\u001B[38;5;132;01m:\u001B[39;00m\u001B[38;5;124m.2f\u001B[39m\u001B[38;5;132;01m}\u001B[39;00m\u001B[38;5;130;01m\\n\u001B[39;00m\u001B[38;5;124mtime_per_episode=\u001B[39m\u001B[38;5;132;01m{\u001B[39;00m\u001B[38;5;28mfloat\u001B[39m(yaml_file[\u001B[38;5;124m'\u001B[39m\u001B[38;5;124mtime_per_episode\u001B[39m\u001B[38;5;124m'\u001B[39m])\u001B[38;5;132;01m:\u001B[39;00m\u001B[38;5;124m.2f\u001B[39m\u001B[38;5;132;01m}\u001B[39;00m\u001B[38;5;130;01m\\n\u001B[39;00m\u001B[38;5;124mtimesteps_episode=\u001B[39m\u001B[38;5;132;01m{\u001B[39;00m\u001B[38;5;28mfloat\u001B[39m(yaml_file[\u001B[38;5;124m'\u001B[39m\u001B[38;5;124mtime_step_per_episode\u001B[39m\u001B[38;5;124m'\u001B[39m])\u001B[38;5;132;01m:\u001B[39;00m\u001B[38;5;124m.2f\u001B[39m\u001B[38;5;132;01m}\u001B[39;00m\u001B[38;5;130;01m\\n\u001B[39;00m\u001B[38;5;124mpolicy_length_per_episode=\u001B[39m\u001B[38;5;132;01m{\u001B[39;00m\u001B[38;5;28mfloat\u001B[39m(yaml_file[\u001B[38;5;124m'\u001B[39m\u001B[38;5;124mpolicy_length_per_episode\u001B[39m\u001B[38;5;124m'\u001B[39m])\u001B[38;5;132;01m:\u001B[39;00m\u001B[38;5;124m.2f\u001B[39m\u001B[38;5;132;01m}\u001B[39;00m\u001B[38;5;130;01m\\n\u001B[39;00m\u001B[38;5;124mstate_space_coverage=\u001B[39m\u001B[38;5;132;01m{\u001B[39;00m\u001B[38;5;28mfloat\u001B[39m(yaml_file[\u001B[38;5;124m'\u001B[39m\u001B[38;5;124mstate_space_coverage\u001B[39m\u001B[38;5;124m'\u001B[39m])\u001B[38;5;132;01m:\u001B[39;00m\u001B[38;5;124m.2f\u001B[39m\u001B[38;5;132;01m}\u001B[39;00m\u001B[38;5;130;01m\\n\u001B[39;00m\u001B[38;5;124mepisodes=\u001B[39m\u001B[38;5;132;01m{\u001B[39;00myaml_file[\u001B[38;5;124m'\u001B[39m\u001B[38;5;124mepisode_count\u001B[39m\u001B[38;5;124m'\u001B[39m]\u001B[38;5;132;01m}\u001B[39;00m\u001B[38;5;124m\"\u001B[39m\n\u001B[0;32m     18\u001B[0m \u001B[38;5;28mprint\u001B[39m(exp_name)\n\u001B[0;32m     19\u001B[0m \u001B[38;5;28mprint\u001B[39m(indep_output)\n",
      "\u001B[1;31mTypeError\u001B[0m: float() argument must be a string or a number, not 'list'"
     ]
    }
   ],
   "execution_count": 26
  },
  {
   "metadata": {},
   "cell_type": "code",
   "outputs": [],
   "execution_count": null,
   "source": "",
   "id": "a3908c56d2838e89"
  }
 ],
 "metadata": {
  "kernelspec": {
   "display_name": "Python 3",
   "language": "python",
   "name": "python3"
  },
  "language_info": {
   "codemirror_mode": {
    "name": "ipython",
    "version": 2
   },
   "file_extension": ".py",
   "mimetype": "text/x-python",
   "name": "python",
   "nbconvert_exporter": "python",
   "pygments_lexer": "ipython2",
   "version": "2.7.6"
  }
 },
 "nbformat": 4,
 "nbformat_minor": 5
}
