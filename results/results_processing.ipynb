{
 "cells": [
  {
   "metadata": {},
   "cell_type": "code",
   "outputs": [],
   "execution_count": null,
   "source": "",
   "id": "3f61d35fa8f5dda6"
  },
  {
   "cell_type": "code",
   "id": "initial_id",
   "metadata": {
    "collapsed": true,
    "ExecuteTime": {
     "end_time": "2025-04-01T14:26:45.222165Z",
     "start_time": "2025-04-01T14:26:44.983775Z"
    }
   },
   "source": [
    "import os \n",
    "import pickle\n",
    "\n",
    "print(os.listdir(os.path.join(os.getcwd(),\"deterministic_long_policy\", \"deterministic_long_policy_g=8_a=8_t=25\")))\n",
    "\n",
    "p = os.path.join(os.getcwd(),\"deterministic_long_policy\",\n",
    "                            \"deterministic_long_policy_g=8_a=8_t=25\",\"deterministic_long_policy_g=8_a=8_t=25.pkl\")\n",
    "\n",
    "pt = r\"C:\\\\Users\\\\james\\\\MSCIActiveInferenceProject\\\\results\\\\deterministic_long_policy\\\\deterministic_long_policy_g=8_a=8_t=25\\\\deterministic_long_policy_g=8_a=8_t=25.pkl\"\n",
    "with open(p, \"rb\") as file:\n",
    "    pkl_file = pickle.load(file)"
   ],
   "outputs": [
    {
     "name": "stdout",
     "output_type": "stream",
     "text": [
      "['deterministic_long_policy_g=8_a=8_t=25.pkl', 'deterministic_long_policy_g=8_a=8_t=25.yml']\n"
     ]
    }
   ],
   "execution_count": 15
  },
  {
   "metadata": {
    "ExecuteTime": {
     "end_time": "2025-04-14T13:39:46.995661Z",
     "start_time": "2025-04-14T13:39:46.982908Z"
    }
   },
   "cell_type": "code",
   "source": [
    "import os\n",
    "import yaml\n",
    "import pathlib\n",
    "\n",
    "def tuple_constructor(loader, node):\n",
    "    return tuple(loader.construct_sequence(node))\n",
    "\n",
    "yaml.add_constructor('tag:yaml.org,2002:python/tuple', tuple_constructor)\n",
    "\n",
    "def yml_loader(path, exp_name, show, show_exp):\n",
    "    with open(path, \"r\") as file:\n",
    "        yaml_file = yaml.load(file, Loader=yaml.FullLoader)\n",
    "    indep = yaml_file[\"parameters\"]\n",
    "    \n",
    "    # indep_output = f\"a={indep['alpha']}_g={indep['gamma']}_t={indep['time_steps']}\"\n",
    "    # dep_output = f\"peak_memory={float(yaml_file['peak_memory_per_episode']):.2f}\\ntime_per_episode={float(yaml_file['time_per_episode']):.2f}\\npolicy_length_per_episode={float(yaml_file['policy_length_per_episode']):.2f}\\nstate_space_coverage={float(yaml_file['state_space_coverage']):.2f}\\nepisodes={yaml_file['episode_count']}\"\n",
    "    \n",
    "    ### independent results\n",
    "    alpha = indep['alpha']\n",
    "    gamma = indep['gamma']\n",
    "    time_steps = indep['time_steps']\n",
    "    \n",
    "    ### Dependent Results\n",
    "    \n",
    "    peak_memory = f\"{float(yaml_file['peak_memory_per_episode']/1024):.2f}\" # megabytes\n",
    "    time_per_episode = f\"{float(yaml_file['time_per_episode']):.2f}\"\n",
    "    pol_len_per_episode = f\"{float(yaml_file['policy_length_per_episode']):.2f}\"\n",
    "    state_space_coverage = f\"{float(yaml_file['state_space_coverage']):.2f}\"\n",
    "    episode_count = f\"{yaml_file['episode_count']}\"\n",
    "    upper_bound_memory = f\"{(float(episode_count) * float(peak_memory)):.2f}\"\n",
    "    total_elapsed_time = f\"{(float(episode_count) * (float(time_per_episode)/60)):.2f}\" \n",
    "    \n",
    "    indep_latex_row = f\"{alpha} {gamma} {time_steps}\"\n",
    "    dep_latex_row = f\"{peak_memory} & {time_per_episode} & {pol_len_per_episode} & {state_space_coverage} & {episode_count} & {upper_bound_memory} & {total_elapsed_time}\"\n",
    "    \n",
    "    latex_row = f\"{indep_latex_row} & & {dep_latex_row} \\\\\\\\\"\n",
    "    alpha_gamma_show = [(8, 8), (16, 16), (32, 32)]\n",
    "    time_show = [250]\n",
    "    \n",
    "    if show_exp:\n",
    "        print(exp_name)\n",
    "    \n",
    "    if show:\n",
    "        if (alpha, gamma) in alpha_gamma_show and time_steps in time_show:\n",
    "            \n",
    "            print(latex_row)\n",
    "    else:\n",
    "        print(latex_row)\n",
    "    "
   ],
   "id": "b11938e8fd2fc528",
   "outputs": [],
   "execution_count": 54
  },
  {
   "metadata": {
    "ExecuteTime": {
     "end_time": "2025-04-14T13:39:53.261167Z",
     "start_time": "2025-04-14T13:39:53.254859Z"
    }
   },
   "cell_type": "code",
   "source": [
    "# derive yaml data from results\n",
    "import os\n",
    "import yaml\n",
    "import pathlib\n",
    "import re\n",
    "\n",
    "aif_results = os.path.join(os.getcwd(),\"AiF_real\")\n",
    "\n",
    "def extract_sort_key(filename):\n",
    "    match = re.search(r'g=(\\d+)_a=(\\d+)_t=(\\d+)', filename)  # Extract numbers\n",
    "    if match:\n",
    "        g, a, t = map(int, match.groups())  # Convert to integers\n",
    "        return (g, a, t)  # Sort by g, then a, then t\n",
    "    return (0, 0, 0)  # Default if no match found\n",
    "\n",
    "def extract_experiments_clean(folder, exp, show, show_exp):\n",
    "    \"\"\"\n",
    "    Given an experiment name, including the folder where it is, extract the results and present them\n",
    "    :return: \n",
    "    \"\"\"\n",
    "    exp_folder = os.path.join(os.getcwd(), folder, exp)\n",
    "    \n",
    "    for exp_class in sorted(os.listdir(exp_folder)):\n",
    "        exp_class_path = os.path.join(exp_folder,exp_class)\n",
    "        for dec_model in sorted(os.listdir(exp_class_path), key=extract_sort_key ):\n",
    "            dec_model_path = os.path.join(exp_class_path,dec_model, dec_model + \".yml\")\n",
    "            yml_loader(dec_model_path,  exp_class_path + \" \" + dec_model, show, show_exp)\n",
    "    \n",
    "\n",
    "# for exp_dir in os.listdir(aif_results):\n",
    "#     exp_dir_path = os.path.join(aif_results,exp_dir)\n",
    "#     for exp_class in os.listdir(exp_dir_path):\n",
    "#         exp_class_path = os.path.join(exp_dir_path,exp_class)\n",
    "#         for dec_model in os.listdir(exp_class_path):\n",
    "#             dec_model_path = os.path.join(exp_class_path,dec_model, dec_model + \".yml\")\n",
    "#             yml_loader(dec_model_path,  exp_dir + \" \" + dec_model)\n",
    "                \n",
    "        \n",
    "\n"
   ],
   "id": "26a55b3be181227b",
   "outputs": [],
   "execution_count": 55
  },
  {
   "metadata": {
    "ExecuteTime": {
     "end_time": "2025-04-14T13:37:22.217195Z",
     "start_time": "2025-04-14T13:37:22.203919Z"
    }
   },
   "cell_type": "code",
   "source": "folder = os.path.join(\"AiF_real\", \"performance\")",
   "id": "7e23832df7c6bcfc",
   "outputs": [],
   "execution_count": 47
  },
  {
   "metadata": {
    "ExecuteTime": {
     "end_time": "2025-04-14T13:37:24.257215Z",
     "start_time": "2025-04-14T13:37:22.692073Z"
    }
   },
   "cell_type": "code",
   "source": [
    "\"\"\"\n",
    "5x5 experiment performance results\n",
    "\"\"\"\n",
    "exp_5x5 = \"5_by_5_grid_experiment\"\n",
    "\n",
    "extract_experiments_clean(folder, exp_5x5, True, False)"
   ],
   "id": "e82424ef6c5b4835",
   "outputs": [
    {
     "name": "stdout",
     "output_type": "stream",
     "text": [
      "8 8 150 & & 4.19 & 17.78 & 8.22 & 0.27 & 18 & 75.42 & 5.33 \\\\\n",
      "16 16 150 & & 4.36 & 21.26 & 10.00 & 0.33 & 14 & 61.04 & 4.96 \\\\\n",
      "32 32 150 & & 4.30 & 20.86 & 9.73 & 0.31 & 15 & 64.50 & 5.21 \\\\\n",
      "8 8 150 & & 4.31 & 26.96 & 12.50 & 0.36 & 12 & 51.72 & 5.39 \\\\\n",
      "16 16 150 & & 4.23 & 19.90 & 8.82 & 0.31 & 17 & 71.91 & 5.64 \\\\\n",
      "32 32 150 & & 4.27 & 17.38 & 7.53 & 0.27 & 19 & 81.13 & 5.50 \\\\\n",
      "8 8 150 & & 3.14 & 0.43 & 8.28 & 0.28 & 18 & 56.52 & 0.13 \\\\\n",
      "16 16 150 & & 3.51 & 0.51 & 10.36 & 0.31 & 14 & 49.14 & 0.12 \\\\\n",
      "32 32 150 & & 3.40 & 0.53 & 10.00 & 0.32 & 15 & 51.00 & 0.13 \\\\\n"
     ]
    }
   ],
   "execution_count": 48
  },
  {
   "metadata": {
    "ExecuteTime": {
     "end_time": "2025-04-14T13:22:32.547503Z",
     "start_time": "2025-04-14T13:22:32.534955Z"
    }
   },
   "cell_type": "code",
   "source": [
    "\"\"\"\n",
    "7x7 experiment performance results\n",
    "\"\"\"\n",
    "exp_7x7 = \"7_by_7_grid_experiment\"\n",
    "\n"
   ],
   "id": "659bb2e694376a94",
   "outputs": [],
   "execution_count": 29
  },
  {
   "metadata": {
    "ExecuteTime": {
     "end_time": "2025-04-14T13:40:00.778395Z",
     "start_time": "2025-04-14T13:39:55.319881Z"
    }
   },
   "cell_type": "code",
   "source": [
    "\"\"\"\n",
    "9x9 experiment performance results\n",
    "\"\"\"\n",
    "exp_9x9 = \"9_by_9_grid_experiment\"\n",
    "\n",
    "extract_experiments_clean(folder, exp_9x9, True, show_exp=True)"
   ],
   "id": "b9334082783661fb",
   "outputs": [
    {
     "name": "stdout",
     "output_type": "stream",
     "text": [
      "C:\\Users\\james\\MSCIActiveInferenceProject\\results\\AiF_real\\performance\\9_by_9_grid_experiment\\stochastic_long_long_policy stochastic_long_long_policy_g=8_a=8_t=75\n",
      "C:\\Users\\james\\MSCIActiveInferenceProject\\results\\AiF_real\\performance\\9_by_9_grid_experiment\\stochastic_long_long_policy stochastic_long_long_policy_g=8_a=8_t=125\n",
      "C:\\Users\\james\\MSCIActiveInferenceProject\\results\\AiF_real\\performance\\9_by_9_grid_experiment\\stochastic_long_long_policy stochastic_long_long_policy_g=8_a=8_t=175\n",
      "C:\\Users\\james\\MSCIActiveInferenceProject\\results\\AiF_real\\performance\\9_by_9_grid_experiment\\stochastic_long_long_policy stochastic_long_long_policy_g=8_a=8_t=250\n",
      "8 8 250 & & 32.64 & 931.70 & 17.55 & 0.15 & 11 & 359.04 & 170.81 \\\\\n",
      "C:\\Users\\james\\MSCIActiveInferenceProject\\results\\AiF_real\\performance\\9_by_9_grid_experiment\\stochastic_long_long_policy stochastic_long_long_policy_g=8_a=16_t=75\n",
      "C:\\Users\\james\\MSCIActiveInferenceProject\\results\\AiF_real\\performance\\9_by_9_grid_experiment\\stochastic_long_long_policy stochastic_long_long_policy_g=8_a=16_t=125\n",
      "C:\\Users\\james\\MSCIActiveInferenceProject\\results\\AiF_real\\performance\\9_by_9_grid_experiment\\stochastic_long_long_policy stochastic_long_long_policy_g=8_a=16_t=175\n",
      "C:\\Users\\james\\MSCIActiveInferenceProject\\results\\AiF_real\\performance\\9_by_9_grid_experiment\\stochastic_long_long_policy stochastic_long_long_policy_g=8_a=16_t=250\n",
      "C:\\Users\\james\\MSCIActiveInferenceProject\\results\\AiF_real\\performance\\9_by_9_grid_experiment\\stochastic_long_long_policy stochastic_long_long_policy_g=8_a=32_t=75\n",
      "C:\\Users\\james\\MSCIActiveInferenceProject\\results\\AiF_real\\performance\\9_by_9_grid_experiment\\stochastic_long_long_policy stochastic_long_long_policy_g=8_a=32_t=125\n",
      "C:\\Users\\james\\MSCIActiveInferenceProject\\results\\AiF_real\\performance\\9_by_9_grid_experiment\\stochastic_long_long_policy stochastic_long_long_policy_g=8_a=32_t=175\n",
      "C:\\Users\\james\\MSCIActiveInferenceProject\\results\\AiF_real\\performance\\9_by_9_grid_experiment\\stochastic_long_long_policy stochastic_long_long_policy_g=8_a=32_t=250\n",
      "C:\\Users\\james\\MSCIActiveInferenceProject\\results\\AiF_real\\performance\\9_by_9_grid_experiment\\stochastic_long_long_policy stochastic_long_long_policy_g=16_a=8_t=75\n",
      "C:\\Users\\james\\MSCIActiveInferenceProject\\results\\AiF_real\\performance\\9_by_9_grid_experiment\\stochastic_long_long_policy stochastic_long_long_policy_g=16_a=8_t=125\n",
      "C:\\Users\\james\\MSCIActiveInferenceProject\\results\\AiF_real\\performance\\9_by_9_grid_experiment\\stochastic_long_long_policy stochastic_long_long_policy_g=16_a=8_t=175\n",
      "C:\\Users\\james\\MSCIActiveInferenceProject\\results\\AiF_real\\performance\\9_by_9_grid_experiment\\stochastic_long_long_policy stochastic_long_long_policy_g=16_a=8_t=250\n",
      "C:\\Users\\james\\MSCIActiveInferenceProject\\results\\AiF_real\\performance\\9_by_9_grid_experiment\\stochastic_long_long_policy stochastic_long_long_policy_g=16_a=16_t=75\n",
      "C:\\Users\\james\\MSCIActiveInferenceProject\\results\\AiF_real\\performance\\9_by_9_grid_experiment\\stochastic_long_long_policy stochastic_long_long_policy_g=16_a=16_t=125\n",
      "C:\\Users\\james\\MSCIActiveInferenceProject\\results\\AiF_real\\performance\\9_by_9_grid_experiment\\stochastic_long_long_policy stochastic_long_long_policy_g=16_a=16_t=175\n",
      "C:\\Users\\james\\MSCIActiveInferenceProject\\results\\AiF_real\\performance\\9_by_9_grid_experiment\\stochastic_long_long_policy stochastic_long_long_policy_g=16_a=16_t=250\n",
      "16 16 250 & & 80.81 & 5020.87 & 108.00 & 0.54 & 2 & 161.62 & 167.36 \\\\\n",
      "C:\\Users\\james\\MSCIActiveInferenceProject\\results\\AiF_real\\performance\\9_by_9_grid_experiment\\stochastic_long_long_policy stochastic_long_long_policy_g=16_a=32_t=75\n",
      "C:\\Users\\james\\MSCIActiveInferenceProject\\results\\AiF_real\\performance\\9_by_9_grid_experiment\\stochastic_long_long_policy stochastic_long_long_policy_g=16_a=32_t=125\n",
      "C:\\Users\\james\\MSCIActiveInferenceProject\\results\\AiF_real\\performance\\9_by_9_grid_experiment\\stochastic_long_long_policy stochastic_long_long_policy_g=16_a=32_t=175\n",
      "C:\\Users\\james\\MSCIActiveInferenceProject\\results\\AiF_real\\performance\\9_by_9_grid_experiment\\stochastic_long_long_policy stochastic_long_long_policy_g=16_a=32_t=250\n",
      "C:\\Users\\james\\MSCIActiveInferenceProject\\results\\AiF_real\\performance\\9_by_9_grid_experiment\\stochastic_long_long_policy stochastic_long_long_policy_g=32_a=8_t=75\n",
      "C:\\Users\\james\\MSCIActiveInferenceProject\\results\\AiF_real\\performance\\9_by_9_grid_experiment\\stochastic_long_long_policy stochastic_long_long_policy_g=32_a=8_t=125\n",
      "C:\\Users\\james\\MSCIActiveInferenceProject\\results\\AiF_real\\performance\\9_by_9_grid_experiment\\stochastic_long_long_policy stochastic_long_long_policy_g=32_a=8_t=175\n",
      "C:\\Users\\james\\MSCIActiveInferenceProject\\results\\AiF_real\\performance\\9_by_9_grid_experiment\\stochastic_long_long_policy stochastic_long_long_policy_g=32_a=8_t=250\n",
      "C:\\Users\\james\\MSCIActiveInferenceProject\\results\\AiF_real\\performance\\9_by_9_grid_experiment\\stochastic_long_long_policy stochastic_long_long_policy_g=32_a=16_t=75\n",
      "C:\\Users\\james\\MSCIActiveInferenceProject\\results\\AiF_real\\performance\\9_by_9_grid_experiment\\stochastic_long_long_policy stochastic_long_long_policy_g=32_a=16_t=125\n",
      "C:\\Users\\james\\MSCIActiveInferenceProject\\results\\AiF_real\\performance\\9_by_9_grid_experiment\\stochastic_long_long_policy stochastic_long_long_policy_g=32_a=16_t=175\n",
      "C:\\Users\\james\\MSCIActiveInferenceProject\\results\\AiF_real\\performance\\9_by_9_grid_experiment\\stochastic_long_long_policy stochastic_long_long_policy_g=32_a=16_t=250\n",
      "C:\\Users\\james\\MSCIActiveInferenceProject\\results\\AiF_real\\performance\\9_by_9_grid_experiment\\stochastic_long_long_policy stochastic_long_long_policy_g=32_a=32_t=75\n",
      "C:\\Users\\james\\MSCIActiveInferenceProject\\results\\AiF_real\\performance\\9_by_9_grid_experiment\\stochastic_long_long_policy stochastic_long_long_policy_g=32_a=32_t=125\n",
      "C:\\Users\\james\\MSCIActiveInferenceProject\\results\\AiF_real\\performance\\9_by_9_grid_experiment\\stochastic_long_long_policy stochastic_long_long_policy_g=32_a=32_t=175\n",
      "C:\\Users\\james\\MSCIActiveInferenceProject\\results\\AiF_real\\performance\\9_by_9_grid_experiment\\stochastic_long_long_policy stochastic_long_long_policy_g=32_a=32_t=250\n",
      "32 32 250 & & 76.36 & 3868.26 & 81.67 & 0.40 & 3 & 229.08 & 193.41 \\\\\n",
      "C:\\Users\\james\\MSCIActiveInferenceProject\\results\\AiF_real\\performance\\9_by_9_grid_experiment\\stochastic_long_policy stochastic_long_policy_g=8_a=8_t=75\n",
      "C:\\Users\\james\\MSCIActiveInferenceProject\\results\\AiF_real\\performance\\9_by_9_grid_experiment\\stochastic_long_policy stochastic_long_policy_g=8_a=8_t=125\n",
      "C:\\Users\\james\\MSCIActiveInferenceProject\\results\\AiF_real\\performance\\9_by_9_grid_experiment\\stochastic_long_policy stochastic_long_policy_g=8_a=8_t=175\n",
      "C:\\Users\\james\\MSCIActiveInferenceProject\\results\\AiF_real\\performance\\9_by_9_grid_experiment\\stochastic_long_policy stochastic_long_policy_g=8_a=8_t=250\n",
      "8 8 250 & & 33.93 & 157.83 & 16.00 & 0.18 & 3 & 101.79 & 7.89 \\\\\n",
      "C:\\Users\\james\\MSCIActiveInferenceProject\\results\\AiF_real\\performance\\9_by_9_grid_experiment\\stochastic_long_policy stochastic_long_policy_g=8_a=16_t=75\n",
      "C:\\Users\\james\\MSCIActiveInferenceProject\\results\\AiF_real\\performance\\9_by_9_grid_experiment\\stochastic_long_policy stochastic_long_policy_g=8_a=16_t=125\n",
      "C:\\Users\\james\\MSCIActiveInferenceProject\\results\\AiF_real\\performance\\9_by_9_grid_experiment\\stochastic_long_policy stochastic_long_policy_g=8_a=16_t=175\n",
      "C:\\Users\\james\\MSCIActiveInferenceProject\\results\\AiF_real\\performance\\9_by_9_grid_experiment\\stochastic_long_policy stochastic_long_policy_g=8_a=16_t=250\n",
      "C:\\Users\\james\\MSCIActiveInferenceProject\\results\\AiF_real\\performance\\9_by_9_grid_experiment\\stochastic_long_policy stochastic_long_policy_g=8_a=32_t=75\n",
      "C:\\Users\\james\\MSCIActiveInferenceProject\\results\\AiF_real\\performance\\9_by_9_grid_experiment\\stochastic_long_policy stochastic_long_policy_g=8_a=32_t=125\n",
      "C:\\Users\\james\\MSCIActiveInferenceProject\\results\\AiF_real\\performance\\9_by_9_grid_experiment\\stochastic_long_policy stochastic_long_policy_g=8_a=32_t=175\n",
      "C:\\Users\\james\\MSCIActiveInferenceProject\\results\\AiF_real\\performance\\9_by_9_grid_experiment\\stochastic_long_policy stochastic_long_policy_g=8_a=32_t=250\n",
      "C:\\Users\\james\\MSCIActiveInferenceProject\\results\\AiF_real\\performance\\9_by_9_grid_experiment\\stochastic_long_policy stochastic_long_policy_g=16_a=8_t=75\n",
      "C:\\Users\\james\\MSCIActiveInferenceProject\\results\\AiF_real\\performance\\9_by_9_grid_experiment\\stochastic_long_policy stochastic_long_policy_g=16_a=8_t=125\n",
      "C:\\Users\\james\\MSCIActiveInferenceProject\\results\\AiF_real\\performance\\9_by_9_grid_experiment\\stochastic_long_policy stochastic_long_policy_g=16_a=8_t=175\n",
      "C:\\Users\\james\\MSCIActiveInferenceProject\\results\\AiF_real\\performance\\9_by_9_grid_experiment\\stochastic_long_policy stochastic_long_policy_g=16_a=8_t=250\n",
      "C:\\Users\\james\\MSCIActiveInferenceProject\\results\\AiF_real\\performance\\9_by_9_grid_experiment\\stochastic_long_policy stochastic_long_policy_g=16_a=16_t=75\n",
      "C:\\Users\\james\\MSCIActiveInferenceProject\\results\\AiF_real\\performance\\9_by_9_grid_experiment\\stochastic_long_policy stochastic_long_policy_g=16_a=16_t=125\n",
      "C:\\Users\\james\\MSCIActiveInferenceProject\\results\\AiF_real\\performance\\9_by_9_grid_experiment\\stochastic_long_policy stochastic_long_policy_g=16_a=16_t=175\n",
      "C:\\Users\\james\\MSCIActiveInferenceProject\\results\\AiF_real\\performance\\9_by_9_grid_experiment\\stochastic_long_policy stochastic_long_policy_g=16_a=16_t=250\n",
      "16 16 250 & & 48.32 & 350.46 & 44.00 & 0.32 & 5 & 241.60 & 29.20 \\\\\n",
      "C:\\Users\\james\\MSCIActiveInferenceProject\\results\\AiF_real\\performance\\9_by_9_grid_experiment\\stochastic_long_policy stochastic_long_policy_g=16_a=32_t=75\n",
      "C:\\Users\\james\\MSCIActiveInferenceProject\\results\\AiF_real\\performance\\9_by_9_grid_experiment\\stochastic_long_policy stochastic_long_policy_g=16_a=32_t=125\n",
      "C:\\Users\\james\\MSCIActiveInferenceProject\\results\\AiF_real\\performance\\9_by_9_grid_experiment\\stochastic_long_policy stochastic_long_policy_g=16_a=32_t=175\n",
      "C:\\Users\\james\\MSCIActiveInferenceProject\\results\\AiF_real\\performance\\9_by_9_grid_experiment\\stochastic_long_policy stochastic_long_policy_g=16_a=32_t=250\n",
      "C:\\Users\\james\\MSCIActiveInferenceProject\\results\\AiF_real\\performance\\9_by_9_grid_experiment\\stochastic_long_policy stochastic_long_policy_g=32_a=8_t=75\n",
      "C:\\Users\\james\\MSCIActiveInferenceProject\\results\\AiF_real\\performance\\9_by_9_grid_experiment\\stochastic_long_policy stochastic_long_policy_g=32_a=8_t=125\n",
      "C:\\Users\\james\\MSCIActiveInferenceProject\\results\\AiF_real\\performance\\9_by_9_grid_experiment\\stochastic_long_policy stochastic_long_policy_g=32_a=8_t=175\n",
      "C:\\Users\\james\\MSCIActiveInferenceProject\\results\\AiF_real\\performance\\9_by_9_grid_experiment\\stochastic_long_policy stochastic_long_policy_g=32_a=8_t=250\n",
      "C:\\Users\\james\\MSCIActiveInferenceProject\\results\\AiF_real\\performance\\9_by_9_grid_experiment\\stochastic_long_policy stochastic_long_policy_g=32_a=16_t=75\n",
      "C:\\Users\\james\\MSCIActiveInferenceProject\\results\\AiF_real\\performance\\9_by_9_grid_experiment\\stochastic_long_policy stochastic_long_policy_g=32_a=16_t=125\n",
      "C:\\Users\\james\\MSCIActiveInferenceProject\\results\\AiF_real\\performance\\9_by_9_grid_experiment\\stochastic_long_policy stochastic_long_policy_g=32_a=16_t=175\n",
      "C:\\Users\\james\\MSCIActiveInferenceProject\\results\\AiF_real\\performance\\9_by_9_grid_experiment\\stochastic_long_policy stochastic_long_policy_g=32_a=16_t=250\n",
      "C:\\Users\\james\\MSCIActiveInferenceProject\\results\\AiF_real\\performance\\9_by_9_grid_experiment\\stochastic_long_policy stochastic_long_policy_g=32_a=32_t=75\n",
      "C:\\Users\\james\\MSCIActiveInferenceProject\\results\\AiF_real\\performance\\9_by_9_grid_experiment\\stochastic_long_policy stochastic_long_policy_g=32_a=32_t=125\n",
      "C:\\Users\\james\\MSCIActiveInferenceProject\\results\\AiF_real\\performance\\9_by_9_grid_experiment\\stochastic_long_policy stochastic_long_policy_g=32_a=32_t=175\n",
      "C:\\Users\\james\\MSCIActiveInferenceProject\\results\\AiF_real\\performance\\9_by_9_grid_experiment\\stochastic_long_policy stochastic_long_policy_g=32_a=32_t=250\n",
      "32 32 250 & & 42.16 & 402.69 & 44.80 & 0.36 & 5 & 210.80 & 33.56 \\\\\n",
      "C:\\Users\\james\\MSCIActiveInferenceProject\\results\\AiF_real\\performance\\9_by_9_grid_experiment\\stochastic_short_policy stochastic_short_policy_g=8_a=8_t=75\n",
      "C:\\Users\\james\\MSCIActiveInferenceProject\\results\\AiF_real\\performance\\9_by_9_grid_experiment\\stochastic_short_policy stochastic_short_policy_g=8_a=8_t=125\n",
      "C:\\Users\\james\\MSCIActiveInferenceProject\\results\\AiF_real\\performance\\9_by_9_grid_experiment\\stochastic_short_policy stochastic_short_policy_g=8_a=8_t=175\n",
      "C:\\Users\\james\\MSCIActiveInferenceProject\\results\\AiF_real\\performance\\9_by_9_grid_experiment\\stochastic_short_policy stochastic_short_policy_g=8_a=8_t=250\n",
      "8 8 250 & & 14.77 & 26.90 & 39.33 & 0.35 & 3 & 44.31 & 1.34 \\\\\n",
      "C:\\Users\\james\\MSCIActiveInferenceProject\\results\\AiF_real\\performance\\9_by_9_grid_experiment\\stochastic_short_policy stochastic_short_policy_g=8_a=16_t=75\n",
      "C:\\Users\\james\\MSCIActiveInferenceProject\\results\\AiF_real\\performance\\9_by_9_grid_experiment\\stochastic_short_policy stochastic_short_policy_g=8_a=16_t=125\n",
      "C:\\Users\\james\\MSCIActiveInferenceProject\\results\\AiF_real\\performance\\9_by_9_grid_experiment\\stochastic_short_policy stochastic_short_policy_g=8_a=16_t=175\n",
      "C:\\Users\\james\\MSCIActiveInferenceProject\\results\\AiF_real\\performance\\9_by_9_grid_experiment\\stochastic_short_policy stochastic_short_policy_g=8_a=16_t=250\n",
      "C:\\Users\\james\\MSCIActiveInferenceProject\\results\\AiF_real\\performance\\9_by_9_grid_experiment\\stochastic_short_policy stochastic_short_policy_g=8_a=32_t=75\n",
      "C:\\Users\\james\\MSCIActiveInferenceProject\\results\\AiF_real\\performance\\9_by_9_grid_experiment\\stochastic_short_policy stochastic_short_policy_g=8_a=32_t=125\n",
      "C:\\Users\\james\\MSCIActiveInferenceProject\\results\\AiF_real\\performance\\9_by_9_grid_experiment\\stochastic_short_policy stochastic_short_policy_g=8_a=32_t=175\n",
      "C:\\Users\\james\\MSCIActiveInferenceProject\\results\\AiF_real\\performance\\9_by_9_grid_experiment\\stochastic_short_policy stochastic_short_policy_g=8_a=32_t=250\n",
      "C:\\Users\\james\\MSCIActiveInferenceProject\\results\\AiF_real\\performance\\9_by_9_grid_experiment\\stochastic_short_policy stochastic_short_policy_g=16_a=8_t=75\n",
      "C:\\Users\\james\\MSCIActiveInferenceProject\\results\\AiF_real\\performance\\9_by_9_grid_experiment\\stochastic_short_policy stochastic_short_policy_g=16_a=8_t=125\n",
      "C:\\Users\\james\\MSCIActiveInferenceProject\\results\\AiF_real\\performance\\9_by_9_grid_experiment\\stochastic_short_policy stochastic_short_policy_g=16_a=8_t=175\n",
      "C:\\Users\\james\\MSCIActiveInferenceProject\\results\\AiF_real\\performance\\9_by_9_grid_experiment\\stochastic_short_policy stochastic_short_policy_g=16_a=8_t=250\n",
      "C:\\Users\\james\\MSCIActiveInferenceProject\\results\\AiF_real\\performance\\9_by_9_grid_experiment\\stochastic_short_policy stochastic_short_policy_g=16_a=16_t=75\n",
      "C:\\Users\\james\\MSCIActiveInferenceProject\\results\\AiF_real\\performance\\9_by_9_grid_experiment\\stochastic_short_policy stochastic_short_policy_g=16_a=16_t=125\n",
      "C:\\Users\\james\\MSCIActiveInferenceProject\\results\\AiF_real\\performance\\9_by_9_grid_experiment\\stochastic_short_policy stochastic_short_policy_g=16_a=16_t=175\n",
      "C:\\Users\\james\\MSCIActiveInferenceProject\\results\\AiF_real\\performance\\9_by_9_grid_experiment\\stochastic_short_policy stochastic_short_policy_g=16_a=16_t=250\n",
      "16 16 250 & & 53.40 & 62.11 & 62.25 & 0.40 & 4 & 213.60 & 4.14 \\\\\n",
      "C:\\Users\\james\\MSCIActiveInferenceProject\\results\\AiF_real\\performance\\9_by_9_grid_experiment\\stochastic_short_policy stochastic_short_policy_g=16_a=32_t=75\n",
      "C:\\Users\\james\\MSCIActiveInferenceProject\\results\\AiF_real\\performance\\9_by_9_grid_experiment\\stochastic_short_policy stochastic_short_policy_g=16_a=32_t=125\n",
      "C:\\Users\\james\\MSCIActiveInferenceProject\\results\\AiF_real\\performance\\9_by_9_grid_experiment\\stochastic_short_policy stochastic_short_policy_g=16_a=32_t=175\n",
      "C:\\Users\\james\\MSCIActiveInferenceProject\\results\\AiF_real\\performance\\9_by_9_grid_experiment\\stochastic_short_policy stochastic_short_policy_g=16_a=32_t=250\n",
      "C:\\Users\\james\\MSCIActiveInferenceProject\\results\\AiF_real\\performance\\9_by_9_grid_experiment\\stochastic_short_policy stochastic_short_policy_g=32_a=8_t=75\n",
      "C:\\Users\\james\\MSCIActiveInferenceProject\\results\\AiF_real\\performance\\9_by_9_grid_experiment\\stochastic_short_policy stochastic_short_policy_g=32_a=8_t=125\n",
      "C:\\Users\\james\\MSCIActiveInferenceProject\\results\\AiF_real\\performance\\9_by_9_grid_experiment\\stochastic_short_policy stochastic_short_policy_g=32_a=8_t=175\n",
      "C:\\Users\\james\\MSCIActiveInferenceProject\\results\\AiF_real\\performance\\9_by_9_grid_experiment\\stochastic_short_policy stochastic_short_policy_g=32_a=8_t=250\n",
      "C:\\Users\\james\\MSCIActiveInferenceProject\\results\\AiF_real\\performance\\9_by_9_grid_experiment\\stochastic_short_policy stochastic_short_policy_g=32_a=16_t=75\n",
      "C:\\Users\\james\\MSCIActiveInferenceProject\\results\\AiF_real\\performance\\9_by_9_grid_experiment\\stochastic_short_policy stochastic_short_policy_g=32_a=16_t=125\n",
      "C:\\Users\\james\\MSCIActiveInferenceProject\\results\\AiF_real\\performance\\9_by_9_grid_experiment\\stochastic_short_policy stochastic_short_policy_g=32_a=16_t=175\n",
      "C:\\Users\\james\\MSCIActiveInferenceProject\\results\\AiF_real\\performance\\9_by_9_grid_experiment\\stochastic_short_policy stochastic_short_policy_g=32_a=16_t=250\n",
      "C:\\Users\\james\\MSCIActiveInferenceProject\\results\\AiF_real\\performance\\9_by_9_grid_experiment\\stochastic_short_policy stochastic_short_policy_g=32_a=32_t=75\n",
      "C:\\Users\\james\\MSCIActiveInferenceProject\\results\\AiF_real\\performance\\9_by_9_grid_experiment\\stochastic_short_policy stochastic_short_policy_g=32_a=32_t=125\n",
      "C:\\Users\\james\\MSCIActiveInferenceProject\\results\\AiF_real\\performance\\9_by_9_grid_experiment\\stochastic_short_policy stochastic_short_policy_g=32_a=32_t=175\n",
      "C:\\Users\\james\\MSCIActiveInferenceProject\\results\\AiF_real\\performance\\9_by_9_grid_experiment\\stochastic_short_policy stochastic_short_policy_g=32_a=32_t=250\n",
      "32 32 250 & & 54.57 & 54.38 & 53.33 & 0.44 & 3 & 163.71 & 2.72 \\\\\n"
     ]
    }
   ],
   "execution_count": 56
  },
  {
   "metadata": {
    "ExecuteTime": {
     "end_time": "2025-04-14T09:37:13.056495Z",
     "start_time": "2025-04-14T09:37:03.968052Z"
    }
   },
   "cell_type": "code",
   "source": [
    "\"\"\"\n",
    "spiral maze experiment performance results\n",
    "\"\"\"\n",
    "\n",
    "maze_path_9x9 =  \"maze_9_by_9\"\n",
    "extract_experiments_clean(folder, maze_path_9x9)\n"
   ],
   "id": "6c117206a379221d",
   "outputs": [
    {
     "ename": "TypeError",
     "evalue": "float() argument must be a string or a number, not 'list'",
     "output_type": "error",
     "traceback": [
      "\u001B[1;31m---------------------------------------------------------------------------\u001B[0m",
      "\u001B[1;31mTypeError\u001B[0m                                 Traceback (most recent call last)",
      "Cell \u001B[1;32mIn[26], line 6\u001B[0m\n\u001B[0;32m      1\u001B[0m \u001B[38;5;124;03m\"\"\"\u001B[39;00m\n\u001B[0;32m      2\u001B[0m \u001B[38;5;124;03mspiral maze experiment performance results\u001B[39;00m\n\u001B[0;32m      3\u001B[0m \u001B[38;5;124;03m\"\"\"\u001B[39;00m\n\u001B[0;32m      5\u001B[0m maze_path_9x9 \u001B[38;5;241m=\u001B[39m  \u001B[38;5;124m\"\u001B[39m\u001B[38;5;124mmaze_9_by_9\u001B[39m\u001B[38;5;124m\"\u001B[39m\n\u001B[1;32m----> 6\u001B[0m \u001B[43mextract_experiments_clean\u001B[49m\u001B[43m(\u001B[49m\u001B[43mfolder\u001B[49m\u001B[43m,\u001B[49m\u001B[43m \u001B[49m\u001B[43mmaze_path_9x9\u001B[49m\u001B[43m)\u001B[49m\n",
      "Cell \u001B[1;32mIn[18], line 19\u001B[0m, in \u001B[0;36mextract_experiments_clean\u001B[1;34m(folder, exp)\u001B[0m\n\u001B[0;32m     17\u001B[0m \u001B[38;5;28;01mfor\u001B[39;00m dec_model \u001B[38;5;129;01min\u001B[39;00m os\u001B[38;5;241m.\u001B[39mlistdir(exp_class_path):\n\u001B[0;32m     18\u001B[0m     dec_model_path \u001B[38;5;241m=\u001B[39m os\u001B[38;5;241m.\u001B[39mpath\u001B[38;5;241m.\u001B[39mjoin(exp_class_path,dec_model, dec_model \u001B[38;5;241m+\u001B[39m \u001B[38;5;124m\"\u001B[39m\u001B[38;5;124m.yml\u001B[39m\u001B[38;5;124m\"\u001B[39m)\n\u001B[1;32m---> 19\u001B[0m     \u001B[43myml_loader\u001B[49m\u001B[43m(\u001B[49m\u001B[43mdec_model_path\u001B[49m\u001B[43m,\u001B[49m\u001B[43m  \u001B[49m\u001B[43mexp_class_path\u001B[49m\u001B[43m \u001B[49m\u001B[38;5;241;43m+\u001B[39;49m\u001B[43m \u001B[49m\u001B[38;5;124;43m\"\u001B[39;49m\u001B[38;5;124;43m \u001B[39;49m\u001B[38;5;124;43m\"\u001B[39;49m\u001B[43m \u001B[49m\u001B[38;5;241;43m+\u001B[39;49m\u001B[43m \u001B[49m\u001B[43mdec_model\u001B[49m\u001B[43m)\u001B[49m\n",
      "Cell \u001B[1;32mIn[10], line 16\u001B[0m, in \u001B[0;36myml_loader\u001B[1;34m(path, exp_name)\u001B[0m\n\u001B[0;32m     13\u001B[0m indep \u001B[38;5;241m=\u001B[39m yaml_file[\u001B[38;5;124m\"\u001B[39m\u001B[38;5;124mparameters\u001B[39m\u001B[38;5;124m\"\u001B[39m]\n\u001B[0;32m     15\u001B[0m indep_output \u001B[38;5;241m=\u001B[39m \u001B[38;5;124mf\u001B[39m\u001B[38;5;124m\"\u001B[39m\u001B[38;5;124ma=\u001B[39m\u001B[38;5;132;01m{\u001B[39;00mindep[\u001B[38;5;124m'\u001B[39m\u001B[38;5;124malpha\u001B[39m\u001B[38;5;124m'\u001B[39m]\u001B[38;5;132;01m}\u001B[39;00m\u001B[38;5;124m_g=\u001B[39m\u001B[38;5;132;01m{\u001B[39;00mindep[\u001B[38;5;124m'\u001B[39m\u001B[38;5;124mgamma\u001B[39m\u001B[38;5;124m'\u001B[39m]\u001B[38;5;132;01m}\u001B[39;00m\u001B[38;5;124m_t=\u001B[39m\u001B[38;5;132;01m{\u001B[39;00mindep[\u001B[38;5;124m'\u001B[39m\u001B[38;5;124mtime_steps\u001B[39m\u001B[38;5;124m'\u001B[39m]\u001B[38;5;132;01m}\u001B[39;00m\u001B[38;5;124m\"\u001B[39m\n\u001B[1;32m---> 16\u001B[0m dep_output \u001B[38;5;241m=\u001B[39m \u001B[38;5;124mf\u001B[39m\u001B[38;5;124m\"\u001B[39m\u001B[38;5;124mpeak_memory=\u001B[39m\u001B[38;5;132;01m{\u001B[39;00m\u001B[38;5;28mfloat\u001B[39m(yaml_file[\u001B[38;5;124m'\u001B[39m\u001B[38;5;124mpeak_memory_per_episode\u001B[39m\u001B[38;5;124m'\u001B[39m])\u001B[38;5;132;01m:\u001B[39;00m\u001B[38;5;124m.2f\u001B[39m\u001B[38;5;132;01m}\u001B[39;00m\u001B[38;5;130;01m\\n\u001B[39;00m\u001B[38;5;124mtime_per_episode=\u001B[39m\u001B[38;5;132;01m{\u001B[39;00m\u001B[38;5;28mfloat\u001B[39m(yaml_file[\u001B[38;5;124m'\u001B[39m\u001B[38;5;124mtime_per_episode\u001B[39m\u001B[38;5;124m'\u001B[39m])\u001B[38;5;132;01m:\u001B[39;00m\u001B[38;5;124m.2f\u001B[39m\u001B[38;5;132;01m}\u001B[39;00m\u001B[38;5;130;01m\\n\u001B[39;00m\u001B[38;5;124mtimesteps_episode=\u001B[39m\u001B[38;5;132;01m{\u001B[39;00m\u001B[38;5;28mfloat\u001B[39m(yaml_file[\u001B[38;5;124m'\u001B[39m\u001B[38;5;124mtime_step_per_episode\u001B[39m\u001B[38;5;124m'\u001B[39m])\u001B[38;5;132;01m:\u001B[39;00m\u001B[38;5;124m.2f\u001B[39m\u001B[38;5;132;01m}\u001B[39;00m\u001B[38;5;130;01m\\n\u001B[39;00m\u001B[38;5;124mpolicy_length_per_episode=\u001B[39m\u001B[38;5;132;01m{\u001B[39;00m\u001B[38;5;28mfloat\u001B[39m(yaml_file[\u001B[38;5;124m'\u001B[39m\u001B[38;5;124mpolicy_length_per_episode\u001B[39m\u001B[38;5;124m'\u001B[39m])\u001B[38;5;132;01m:\u001B[39;00m\u001B[38;5;124m.2f\u001B[39m\u001B[38;5;132;01m}\u001B[39;00m\u001B[38;5;130;01m\\n\u001B[39;00m\u001B[38;5;124mstate_space_coverage=\u001B[39m\u001B[38;5;132;01m{\u001B[39;00m\u001B[38;5;28mfloat\u001B[39m(yaml_file[\u001B[38;5;124m'\u001B[39m\u001B[38;5;124mstate_space_coverage\u001B[39m\u001B[38;5;124m'\u001B[39m])\u001B[38;5;132;01m:\u001B[39;00m\u001B[38;5;124m.2f\u001B[39m\u001B[38;5;132;01m}\u001B[39;00m\u001B[38;5;130;01m\\n\u001B[39;00m\u001B[38;5;124mepisodes=\u001B[39m\u001B[38;5;132;01m{\u001B[39;00myaml_file[\u001B[38;5;124m'\u001B[39m\u001B[38;5;124mepisode_count\u001B[39m\u001B[38;5;124m'\u001B[39m]\u001B[38;5;132;01m}\u001B[39;00m\u001B[38;5;124m\"\u001B[39m\n\u001B[0;32m     18\u001B[0m \u001B[38;5;28mprint\u001B[39m(exp_name)\n\u001B[0;32m     19\u001B[0m \u001B[38;5;28mprint\u001B[39m(indep_output)\n",
      "\u001B[1;31mTypeError\u001B[0m: float() argument must be a string or a number, not 'list'"
     ]
    }
   ],
   "execution_count": 26
  },
  {
   "metadata": {},
   "cell_type": "code",
   "outputs": [],
   "execution_count": null,
   "source": "",
   "id": "a3908c56d2838e89"
  }
 ],
 "metadata": {
  "kernelspec": {
   "display_name": "Python 3",
   "language": "python",
   "name": "python3"
  },
  "language_info": {
   "codemirror_mode": {
    "name": "ipython",
    "version": 2
   },
   "file_extension": ".py",
   "mimetype": "text/x-python",
   "name": "python",
   "nbconvert_exporter": "python",
   "pygments_lexer": "ipython2",
   "version": "2.7.6"
  }
 },
 "nbformat": 4,
 "nbformat_minor": 5
}
